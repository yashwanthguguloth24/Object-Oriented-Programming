{
 "cells": [
  {
   "cell_type": "markdown",
   "metadata": {},
   "source": [
    "# Inheritance"
   ]
  },
  {
   "cell_type": "markdown",
   "metadata": {},
   "source": [
    "inherit a class from predefined class\n",
    "\n",
    "```python\n",
    "\n",
    "class Book:\n",
    "    pass\n",
    "\n",
    "class LIBRARY(Book):\n",
    "    pass\n",
    "```\n",
    "\n",
    "We can also use __super()__ instead of class name in inherited class removing self from parenthesis"
   ]
  },
  {
   "cell_type": "code",
   "execution_count": 14,
   "metadata": {},
   "outputs": [],
   "source": [
    "class Book:\n",
    "    def print(self):\n",
    "        print('this is a book class')\n",
    "        \n",
    "class Library(Book):\n",
    "    def print_new(self):\n",
    "        Book.print(self)\n",
    "        print('this is a library')"
   ]
  },
  {
   "cell_type": "code",
   "execution_count": 15,
   "metadata": {},
   "outputs": [
    {
     "name": "stdout",
     "output_type": "stream",
     "text": [
      "this is a book class\n",
      "this is a library\n"
     ]
    }
   ],
   "source": [
    "l = Library()\n",
    "l.print_new()"
   ]
  },
  {
   "cell_type": "markdown",
   "metadata": {},
   "source": [
    "__MULTIPLE INHERITANCE__\n",
    "\n",
    "```python\n",
    "class Book:\n",
    "    pass\n",
    "\n",
    "class Person:\n",
    "    pass\n",
    "\n",
    "class LIBRARY(Person,Book):\n",
    "    pass\n",
    "\n",
    "```\n"
   ]
  },
  {
   "cell_type": "code",
   "execution_count": 16,
   "metadata": {},
   "outputs": [
    {
     "name": "stdout",
     "output_type": "stream",
     "text": [
      "I am a TA\n"
     ]
    }
   ],
   "source": [
    "class Person:\n",
    "    def great(self):\n",
    "        print('I am a person')\n",
    "        \n",
    "class Teacher(Person):\n",
    "    def great(self):\n",
    "        print('I am a Teacher')\n",
    "    \n",
    "class Student(Person):\n",
    "    def great(self):\n",
    "        print('I am a student')\n",
    "        \n",
    "class TA(Student,Teacher):\n",
    "    def great(self):\n",
    "        print('I am a TA')\n",
    "        \n",
    "x = TA()\n",
    "x.great()"
   ]
  },
  {
   "cell_type": "code",
   "execution_count": 17,
   "metadata": {},
   "outputs": [
    {
     "name": "stdout",
     "output_type": "stream",
     "text": [
      "I am a student\n"
     ]
    }
   ],
   "source": [
    "class Person:\n",
    "    def great(self):\n",
    "        print('I am a person')\n",
    "        \n",
    "class Teacher(Person):\n",
    "    def great(self):\n",
    "        print('I am a Teacher')\n",
    "    \n",
    "class Student(Person):\n",
    "    def great(self):\n",
    "        print('I am a student')\n",
    "        \n",
    "class TA(Student,Teacher):\n",
    "    pass\n",
    "#     def great(self):\n",
    "#         print('I am a TA')\n",
    "        \n",
    "x = TA()\n",
    "x.great()"
   ]
  },
  {
   "cell_type": "code",
   "execution_count": 18,
   "metadata": {},
   "outputs": [
    {
     "name": "stdout",
     "output_type": "stream",
     "text": [
      "I am a Teacher\n"
     ]
    }
   ],
   "source": [
    "class Person:\n",
    "    def great(self):\n",
    "        print('I am a person')\n",
    "        \n",
    "class Teacher(Person):\n",
    "    def great(self):\n",
    "        print('I am a Teacher')\n",
    "    \n",
    "class Student(Person):\n",
    "    pass\n",
    "#     def great(self):\n",
    "#         print('I am a student')\n",
    "        \n",
    "class TA(Student,Teacher):\n",
    "    pass\n",
    "#     def great(self):\n",
    "#         print('I am a TA')\n",
    "        \n",
    "x = TA()\n",
    "x.great()"
   ]
  },
  {
   "cell_type": "code",
   "execution_count": 19,
   "metadata": {},
   "outputs": [
    {
     "name": "stdout",
     "output_type": "stream",
     "text": [
      "I am a person\n"
     ]
    }
   ],
   "source": [
    "class Person:\n",
    "    def great(self):\n",
    "        print('I am a person')\n",
    "        \n",
    "class Teacher(Person):\n",
    "    pass\n",
    "#     def great(self):\n",
    "#         print('I am a Teacher')\n",
    "    \n",
    "class Student(Person):\n",
    "    pass\n",
    "#     def great(self):\n",
    "#         print('I am a student')\n",
    "        \n",
    "class TA(Student,Teacher):\n",
    "    pass\n",
    "#     def great(self):\n",
    "#         print('I am a TA')\n",
    "        \n",
    "x = TA()\n",
    "x.great()"
   ]
  },
  {
   "cell_type": "markdown",
   "metadata": {},
   "source": [
    "__Works based on MRO(Method resolution order)__"
   ]
  },
  {
   "cell_type": "code",
   "execution_count": 20,
   "metadata": {},
   "outputs": [
    {
     "name": "stdout",
     "output_type": "stream",
     "text": [
      "Help on class TA in module __main__:\n",
      "\n",
      "class TA(Student, Teacher)\n",
      " |  Method resolution order:\n",
      " |      TA\n",
      " |      Student\n",
      " |      Teacher\n",
      " |      Person\n",
      " |      builtins.object\n",
      " |  \n",
      " |  Methods inherited from Person:\n",
      " |  \n",
      " |  great(self)\n",
      " |  \n",
      " |  ----------------------------------------------------------------------\n",
      " |  Data descriptors inherited from Person:\n",
      " |  \n",
      " |  __dict__\n",
      " |      dictionary for instance variables (if defined)\n",
      " |  \n",
      " |  __weakref__\n",
      " |      list of weak references to the object (if defined)\n",
      "\n"
     ]
    }
   ],
   "source": [
    "help(TA)"
   ]
  },
  {
   "cell_type": "code",
   "execution_count": 21,
   "metadata": {},
   "outputs": [
    {
     "data": {
      "text/plain": [
       "(__main__.TA, __main__.Student, __main__.Teacher, __main__.Person, object)"
      ]
     },
     "execution_count": 21,
     "metadata": {},
     "output_type": "execute_result"
    }
   ],
   "source": [
    "TA.__mro__"
   ]
  },
  {
   "cell_type": "code",
   "execution_count": 22,
   "metadata": {},
   "outputs": [
    {
     "data": {
      "text/plain": [
       "[__main__.TA, __main__.Student, __main__.Teacher, __main__.Person, object]"
      ]
     },
     "execution_count": 22,
     "metadata": {},
     "output_type": "execute_result"
    }
   ],
   "source": [
    "TA.mro()"
   ]
  },
  {
   "cell_type": "code",
   "execution_count": 25,
   "metadata": {},
   "outputs": [
    {
     "name": "stdout",
     "output_type": "stream",
     "text": [
      "I am a person\n",
      "I am a student\n",
      "I am a person\n",
      "I am a Teacher\n",
      "I am a TA\n"
     ]
    }
   ],
   "source": [
    "class Person:\n",
    "    def great(self):\n",
    "        print('I am a person')\n",
    "        \n",
    "class Teacher(Person):\n",
    "    def great(self):\n",
    "        Person.great(self)\n",
    "        print('I am a Teacher')\n",
    "    \n",
    "class Student(Person):\n",
    "    def great(self):\n",
    "        Person.great(self)\n",
    "        print('I am a student')\n",
    "        \n",
    "class TA(Student,Teacher):\n",
    "    def great(self):\n",
    "        Student.great(self)\n",
    "        Teacher.great(self)\n",
    "        print('I am a TA')\n",
    "        \n",
    "x = TA()\n",
    "x.great()"
   ]
  },
  {
   "cell_type": "code",
   "execution_count": 15,
   "metadata": {},
   "outputs": [
    {
     "name": "stdout",
     "output_type": "stream",
     "text": [
      "I am a person\n",
      "I am a Teacher\n",
      "I am a student\n",
      "I am a TA\n"
     ]
    },
    {
     "data": {
      "text/plain": [
       "(__main__.TA, __main__.Student, __main__.Teacher, __main__.Person, object)"
      ]
     },
     "execution_count": 15,
     "metadata": {},
     "output_type": "execute_result"
    }
   ],
   "source": [
    "class Person:\n",
    "    def great(self):\n",
    "        print('I am a person')\n",
    "        \n",
    "class Teacher(Person):\n",
    "    def great(self):\n",
    "        super().great()\n",
    "        print('I am a Teacher')\n",
    "    \n",
    "class Student(Person):\n",
    "    def great(self):\n",
    "        super().great()\n",
    "        print('I am a student')\n",
    "        \n",
    "class TA(Student,Teacher):\n",
    "    def great(self):\n",
    "        super().great()\n",
    "        print('I am a TA')\n",
    "        \n",
    "x = TA()\n",
    "x.great()\n",
    "TA.__mro__"
   ]
  },
  {
   "cell_type": "markdown",
   "metadata": {},
   "source": [
    "## Polymorphism"
   ]
  },
  {
   "cell_type": "code",
   "execution_count": 27,
   "metadata": {},
   "outputs": [],
   "source": [
    "class Rectangle:\n",
    "    name = 'Rectangle'\n",
    "    def __init__(self, length, breadth):\n",
    "        self.length = length\n",
    "        self.breadth = breadth\n",
    "    def area(self):\n",
    "        return self.length * self.breadth\n",
    "    def perimeter(self):\n",
    "        return 2 * (self.length + self.breadth)\n",
    "    \n",
    "    \n",
    "class Triangle:\n",
    "    name = 'Triangle'\n",
    "    def __init__(self, s1, s2, s3):\n",
    "        self.s1 = s1\n",
    "        self.s2 = s2\n",
    "        self.s3 = s3\n",
    "    def area(self):\n",
    "        sp = (self.s1 + self.s2 + self.s3) / 2\n",
    "        return ( sp*(sp-self.s1)*(sp-self.s2)*(sp-self.s3) ) ** 0.5\n",
    "    def perimeter(self):\n",
    "        return self.s1 + self.s2 + self.s3\n",
    "    \n",
    "    \n",
    "class Circle:\n",
    "    name = 'Circle'\n",
    "    def __init__(self, radius):\n",
    "        self.radius = radius\n",
    "    def area(self):\n",
    "        return 3.14 * self.radius * self.radius\n",
    "    def perimeter(self):\n",
    "        return 2 * 3.14 * self.radius\n",
    "    \n",
    "r1 = Rectangle(13,25)\n",
    "r2 = Rectangle(14,16)\n",
    "t1 = Triangle(14,17,12)\n",
    "t2 = Triangle(25,33,52)\n",
    "c1 = Circle(14)\n",
    "c2 = Circle(25)\n",
    "\n",
    "\n",
    "def find_area_perimeter(shape):\n",
    " print(shape.name)\n",
    " print('Area : ', shape.area() )\n",
    " print('Perimeter : ', shape.perimeter() )"
   ]
  },
  {
   "cell_type": "code",
   "execution_count": 28,
   "metadata": {},
   "outputs": [
    {
     "name": "stdout",
     "output_type": "stream",
     "text": [
      "Rectangle\n",
      "Area :  325\n",
      "Perimeter :  76\n"
     ]
    }
   ],
   "source": [
    "find_area_perimeter(r1)"
   ]
  },
  {
   "cell_type": "code",
   "execution_count": 29,
   "metadata": {},
   "outputs": [
    {
     "name": "stdout",
     "output_type": "stream",
     "text": [
      "Triangle\n",
      "Area :  83.0267276243018\n",
      "Perimeter :  43\n"
     ]
    }
   ],
   "source": [
    "find_area_perimeter(t1)"
   ]
  },
  {
   "cell_type": "code",
   "execution_count": 30,
   "metadata": {},
   "outputs": [
    {
     "name": "stdout",
     "output_type": "stream",
     "text": [
      "Circle\n",
      "Area :  615.44\n",
      "Perimeter :  87.92\n"
     ]
    }
   ],
   "source": [
    "find_area_perimeter(c1)"
   ]
  },
  {
   "cell_type": "markdown",
   "metadata": {},
   "source": [
    "__Practice Exercise__\n",
    "\n",
    "1. Create a class named Course that has instance variables title, instructor, price, lectures, users(list type), ratings, avg_rating. Implement the methods __str__, new_user_enrolled, received_a_rating and show_details. From the above class, inherit two classes VideoCourse and PdfCourse. The class VideoCourse has instance variable length_video and PdfCourse has instance variable pages.\n",
    "\n",
    "2. What is the output of this -\n",
    "\n",
    "```python\n",
    "class Mother:\n",
    "        def cook(self):\n",
    "           print('Can cook pasta')\n",
    " \n",
    "class Father:\n",
    "        def cook(self):\n",
    "             print('Can cook noodles')\n",
    " \n",
    "class Daughter(Father, Mother):\n",
    "          pass\n",
    " \n",
    "class Son(Mother, Father):\n",
    "         def cook(self):\n",
    "             super().cook()\n",
    "             print('Can cook butter chicken') \n",
    " \n",
    "d = Daughter()  \n",
    "s = Son()\n",
    " \n",
    "d.cook()\n",
    "print()\n",
    "s.cook()\n",
    "\n",
    "```\n",
    "3. What will be the output of this code -\n",
    "\n",
    "```python\n",
    "\n",
    "class Person:\n",
    "    def greet(self):\n",
    "        print('I am a Person')\n",
    " \n",
    "class Teacher(Person):\n",
    "    def greet(self):\n",
    "        Person.greet(self)    \n",
    "        print('I am a Teacher')\n",
    " \n",
    "class Student(Person):\n",
    "    def greet(self):\n",
    "        Person.greet(self)    \n",
    "        print('I am a Student')\n",
    " \n",
    "class TeachingAssistant(Student, Teacher):\n",
    "     def greet(self):\n",
    "         super().greet()\n",
    "         print('I am a Teaching Assistant')\n",
    "       \n",
    "x = TeachingAssistant()\n",
    "x.greet()\n",
    "\n",
    "```\n",
    "4. In the following inheritance hierarchy we have written code to add 'S' to id of Student, 'T' to id of Teacher and both 'T' and 'S' to id of Teaching Assistant. What will be the output of this code. If the code does not work as intended, what changes we need to make.\n",
    "\n",
    "\n",
    "```python\n",
    "\n",
    "class Person:\n",
    "    def __init__(self,id):\n",
    "        self.id = id\n",
    "        \n",
    "class Teacher(Person):\n",
    "    def __init__(self,id):\n",
    "        Person.__init__(self,id)\n",
    "        self.id += 'T'\n",
    "    \n",
    "class Student(Person):\n",
    "    def __init__(self,id):\n",
    "        Person.__init__(self,id)\n",
    "        self.id += 'S'\n",
    "   \n",
    "class TeachingAssistant(Student, Teacher):\n",
    "     def __init__(self,id):\n",
    "        Student.__init__(self,id)\n",
    "        Teacher.__init__(self,id)\n",
    "       \n",
    "x = TeachingAssistant('2675')\n",
    "print(x.id)\n",
    "y = Student('4567')\n",
    "print(y.id)\n",
    "z = Teacher('3421')\n",
    "print(z.id)\n",
    "p = Person('5749')\n",
    "print(p.id)\n",
    "\n",
    "```"
   ]
  },
  {
   "cell_type": "code",
   "execution_count": 3,
   "metadata": {},
   "outputs": [
    {
     "name": "stdout",
     "output_type": "stream",
     "text": [
      "Course Title :  Learn C++\n",
      "Intructor :  Jack\n",
      "Price :  30\n",
      "Number of Lectures :  50\n",
      "Users :  ['Allen', 'Max', 'Tom']\n",
      "Average rating :  4.0\n",
      "video length : 10\n",
      "\n",
      "Course Title :  Learn Java\n",
      "Intructor :  Jim\n",
      "Price :  35\n",
      "Number of Lectures :  50\n",
      "Users :  ['Allen', 'Mary', 'JIm']\n",
      "Average rating :  4.5\n",
      "No of pages : 1000\n"
     ]
    }
   ],
   "source": [
    "##1\n",
    "#Create a class named Course that has instance variables title, instructor, price, lectures, users(list type),\\\n",
    "#ratings, avg_rating. Implement the methods str, new_user_enrolled, received_a_rating and show_details.\\\n",
    "#From the above class, inherit two classes VideoCourse and PdfCourse. The class VideoCourse has\\\n",
    "#instance variable length_video and PdfCourse has instance variable pages.\n",
    "\n",
    "class COURSE:\n",
    "    def __init__(self,title,instructor,lectures,price):\n",
    "        self.title = title\n",
    "        self.instructor = instructor\n",
    "        self.price = price\n",
    "        self.lectures = lectures\n",
    "        self.users = []\n",
    "        self.ratings = 0\n",
    "        self.avg_rating = 0\n",
    "        \n",
    "    def __str__(self):\n",
    "        return f'{self.title} by {self.instructor}'\n",
    "    \n",
    "    def new_user_enrolled(self,user):\n",
    "        return self.users.append(user)\n",
    "    \n",
    "    def received_a_rating(self,rate):\n",
    "        self.avg_rating = (self.avg_rating * self.ratings + rate)/(self.ratings + 1)\n",
    "        self.ratings += 1\n",
    "        \n",
    "    def show_details(self):\n",
    "        print('Course Title : ', self.title)\n",
    "        print('Intructor : ', self.instructor)\n",
    "        print('Price : ', self.price)\n",
    "        print('Number of Lectures : ', self.lectures)\n",
    "        print('Users : ', self.users)\n",
    "        print('Average rating : ', self.avg_rating)\n",
    "        \n",
    "class VideoCourse(COURSE):\n",
    "    def __init__(self,title,instructor,lectures,price,length_video):\n",
    "        super().__init__(title,instructor,price,lectures)\n",
    "        self.length_video = length_video\n",
    "        \n",
    "    def show_details(self):\n",
    "        super().show_details()\n",
    "        print('video length :', self.length_video)\n",
    "        \n",
    "class PdfCourse(COURSE):\n",
    "    def __init__(self,title,instructor,lectures,price,pages):\n",
    "        super().__init__(title,instructor,price,lectures)\n",
    "        self.pages = pages\n",
    "        \n",
    "    def show_details(self):\n",
    "        super().show_details()\n",
    "        print('No of pages :', self.pages)\n",
    "    \n",
    "    \n",
    "vc = VideoCourse('Learn C++', 'Jack', 30, 50, 10)\n",
    "vc.new_user_enrolled('Allen')\n",
    "vc.new_user_enrolled('Max')\n",
    "vc.new_user_enrolled('Tom')\n",
    "vc.received_a_rating(3)\n",
    "vc.received_a_rating(5)\n",
    "vc.received_a_rating(4)\n",
    "vc.show_details()\n",
    " \n",
    "print()\n",
    " \n",
    "pc = PdfCourse('Learn Java', 'Jim', 35, 50, 1000)\n",
    "pc.new_user_enrolled('Allen')\n",
    "pc.new_user_enrolled('Mary')\n",
    "pc.new_user_enrolled('JIm')\n",
    "pc.received_a_rating(5)\n",
    "pc.received_a_rating(4)\n",
    "pc.received_a_rating(4.5)\n",
    "pc.show_details()\n",
    "    "
   ]
  },
  {
   "cell_type": "markdown",
   "metadata": {},
   "source": [
    "__2__\n",
    "```python\n",
    "\n",
    "Output:\n",
    "    \n",
    "can cook noodles\n",
    "\n",
    "\n",
    "can cook pasta\n",
    "can cook butter chicken\n",
    "\n",
    "\n",
    "```"
   ]
  },
  {
   "cell_type": "code",
   "execution_count": 4,
   "metadata": {},
   "outputs": [
    {
     "name": "stdout",
     "output_type": "stream",
     "text": [
      "Can cook noodles\n",
      "\n",
      "Can cook pasta\n",
      "Can cook butter chicken\n"
     ]
    }
   ],
   "source": [
    "##test q2\n",
    "class Mother:\n",
    "    def cook(self):\n",
    "        print('Can cook pasta')\n",
    "\n",
    "class Father:\n",
    "    def cook(self):\n",
    "        print('Can cook noodles')\n",
    "\n",
    "class Daughter(Father, Mother):\n",
    "    pass\n",
    "\n",
    "class Son(Mother, Father):\n",
    "    def cook(self):\n",
    "        super().cook()\n",
    "        print('Can cook butter chicken') \n",
    "\n",
    "d = Daughter()  \n",
    "s = Son()\n",
    "\n",
    "d.cook()\n",
    "print()\n",
    "s.cook()"
   ]
  },
  {
   "cell_type": "code",
   "execution_count": 14,
   "metadata": {},
   "outputs": [
    {
     "name": "stdout",
     "output_type": "stream",
     "text": [
      "2675TS\n",
      "4567S\n",
      "3421T\n",
      "5749\n"
     ]
    },
    {
     "data": {
      "text/plain": [
       "(__main__.TeachingAssistant,\n",
       " __main__.Student,\n",
       " __main__.Teacher,\n",
       " __main__.Person,\n",
       " object)"
      ]
     },
     "execution_count": 14,
     "metadata": {},
     "output_type": "execute_result"
    }
   ],
   "source": [
    "##4\n",
    "class Person:\n",
    "    def __init__(self,id):\n",
    "        self.id = id\n",
    "\n",
    "class Teacher(Person):\n",
    "    def __init__(self,id):\n",
    "        super().__init__(id)\n",
    "        self.id += 'T'\n",
    "\n",
    "class Student(Person):\n",
    "    def __init__(self,id):\n",
    "        super().__init__(id)\n",
    "        self.id += 'S'\n",
    "\n",
    "class TeachingAssistant(Student, Teacher):\n",
    "     def __init__(self,id):\n",
    "            super().__init__(id)\n",
    "            \n",
    "#         Person.__init__(self,id)\n",
    "#         self.id += 'T'+'S'        \n",
    "        \n",
    "       \n",
    "\n",
    "x = TeachingAssistant('2675')\n",
    "print(x.id)\n",
    "y = Student('4567')\n",
    "print(y.id)\n",
    "z = Teacher('3421')\n",
    "print(z.id)\n",
    "p = Person('5749')\n",
    "print(p.id)\n",
    "TeachingAssistant.__mro__"
   ]
  },
  {
   "cell_type": "code",
   "execution_count": null,
   "metadata": {},
   "outputs": [],
   "source": []
  }
 ],
 "metadata": {
  "kernelspec": {
   "display_name": "Python 3",
   "language": "python",
   "name": "python3"
  },
  "language_info": {
   "codemirror_mode": {
    "name": "ipython",
    "version": 3
   },
   "file_extension": ".py",
   "mimetype": "text/x-python",
   "name": "python",
   "nbconvert_exporter": "python",
   "pygments_lexer": "ipython3",
   "version": "3.7.6"
  }
 },
 "nbformat": 4,
 "nbformat_minor": 4
}
