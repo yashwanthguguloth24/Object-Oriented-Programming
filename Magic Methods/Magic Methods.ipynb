{
 "cells": [
  {
   "cell_type": "markdown",
   "metadata": {},
   "source": [
    "# Magic Methods"
   ]
  },
  {
   "cell_type": "code",
   "execution_count": 2,
   "metadata": {},
   "outputs": [],
   "source": [
    "class Fraction:\n",
    "    \n",
    "    def __init__(self,nr,dr = 1):\n",
    "        self.nr = nr\n",
    "        self.dr = dr\n",
    "        if self.dr < 0:\n",
    "            self.nr *= -1\n",
    "            self.dr *= -1\n",
    "        self._reduce()\n",
    "      \n",
    "            \n",
    "    def show(self):\n",
    "        print(f'{self.nr}/{self.dr}')\n",
    "        \n",
    "    def multiply(self,other):\n",
    "        if isinstance(other,int):\n",
    "            other = Fraction(other)\n",
    "        f = Fraction(self.nr * other.nr , self.dr * other.dr)\n",
    "        f._reduce()\n",
    "        return f\n",
    "        \n",
    "    \n",
    "    def add(self,other):\n",
    "        if isinstance(other,int):\n",
    "            other = Fraction(other)\n",
    "        f = Fraction(self.nr * other.dr + other.nr * self.dr, self.dr * other.dr)\n",
    "        f._reduce()\n",
    "        return f\n",
    "    \n",
    "    @staticmethod\n",
    "    def hcf(x,y):\n",
    "        x=abs(x)\n",
    "        y=abs(y)\n",
    "        smaller = y if x>y else x\n",
    "        s = smaller\n",
    "        while s>0:\n",
    "            if x%s==0 and y%s==0:\n",
    "                break\n",
    "            s-=1\n",
    "        return s\n",
    "    \n",
    "    def _reduce(self):\n",
    "        h = Fraction.hcf(self.nr, self.dr)\n",
    "        if h == 0:\n",
    "            return\n",
    "        \n",
    "        self.nr //= h\n",
    "        self.dr //= h\n",
    "    \n",
    "f1 = Fraction(6,36)\n",
    "f2 = Fraction(2,-12)\n"
   ]
  },
  {
   "cell_type": "code",
   "execution_count": 3,
   "metadata": {},
   "outputs": [
    {
     "ename": "TypeError",
     "evalue": "unsupported operand type(s) for +: 'Fraction' and 'Fraction'",
     "output_type": "error",
     "traceback": [
      "\u001b[1;31m---------------------------------------------------------------------------\u001b[0m",
      "\u001b[1;31mTypeError\u001b[0m                                 Traceback (most recent call last)",
      "\u001b[1;32m<ipython-input-3-141f9c2f002e>\u001b[0m in \u001b[0;36m<module>\u001b[1;34m\u001b[0m\n\u001b[1;32m----> 1\u001b[1;33m \u001b[0mf3\u001b[0m \u001b[1;33m=\u001b[0m \u001b[0mf1\u001b[0m \u001b[1;33m+\u001b[0m \u001b[0mf2\u001b[0m\u001b[1;33m\u001b[0m\u001b[1;33m\u001b[0m\u001b[0m\n\u001b[0m",
      "\u001b[1;31mTypeError\u001b[0m: unsupported operand type(s) for +: 'Fraction' and 'Fraction'"
     ]
    }
   ],
   "source": [
    "f3 = f1 + f2"
   ]
  },
  {
   "cell_type": "code",
   "execution_count": 4,
   "metadata": {},
   "outputs": [
    {
     "name": "stdout",
     "output_type": "stream",
     "text": [
      "0/36\n"
     ]
    }
   ],
   "source": [
    "f3 = f1.add(f2)\n",
    "f3.show()"
   ]
  },
  {
   "cell_type": "markdown",
   "metadata": {},
   "source": [
    "- These methods begin and end with double underscore\n",
    "- Dunder methods\n",
    "- Used to overload operators and built in methods"
   ]
  },
  {
   "cell_type": "code",
   "execution_count": 5,
   "metadata": {},
   "outputs": [],
   "source": [
    "class Fraction:\n",
    "    \n",
    "    def __init__(self,nr,dr = 1):\n",
    "        self.nr = nr\n",
    "        self.dr = dr\n",
    "        if self.dr < 0:\n",
    "            self.nr *= -1\n",
    "            self.dr *= -1\n",
    "        self._reduce()\n",
    "      \n",
    "            \n",
    "    def show(self):\n",
    "        print(f'{self.nr}/{self.dr}')\n",
    "        \n",
    "    def multiply(self,other):\n",
    "        if isinstance(other,int):\n",
    "            other = Fraction(other)\n",
    "        f = Fraction(self.nr * other.nr , self.dr * other.dr)\n",
    "        f._reduce()\n",
    "        return f\n",
    "        \n",
    "    \n",
    "    def __add__(self,other):\n",
    "        if isinstance(other,int):\n",
    "            other = Fraction(other)\n",
    "        f = Fraction(self.nr * other.dr + other.nr * self.dr, self.dr * other.dr)\n",
    "        f._reduce()\n",
    "        return f\n",
    "    \n",
    "    @staticmethod\n",
    "    def hcf(x,y):\n",
    "        x=abs(x)\n",
    "        y=abs(y)\n",
    "        smaller = y if x>y else x\n",
    "        s = smaller\n",
    "        while s>0:\n",
    "            if x%s==0 and y%s==0:\n",
    "                break\n",
    "            s-=1\n",
    "        return s\n",
    "    \n",
    "    def _reduce(self):\n",
    "        h = Fraction.hcf(self.nr, self.dr)\n",
    "        if h == 0:\n",
    "            return\n",
    "        \n",
    "        self.nr //= h\n",
    "        self.dr //= h\n",
    "    \n",
    "f1 = Fraction(6,36)\n",
    "f2 = Fraction(2,-12)\n"
   ]
  },
  {
   "cell_type": "code",
   "execution_count": 6,
   "metadata": {},
   "outputs": [
    {
     "name": "stdout",
     "output_type": "stream",
     "text": [
      "0/36\n"
     ]
    }
   ],
   "source": [
    "f3 = f1.__add__(f2)\n",
    "f3.show()"
   ]
  },
  {
   "cell_type": "code",
   "execution_count": 8,
   "metadata": {},
   "outputs": [
    {
     "name": "stdout",
     "output_type": "stream",
     "text": [
      "0/36\n"
     ]
    }
   ],
   "source": [
    "f3 = f1 + f2\n",
    "f3.show()"
   ]
  },
  {
   "cell_type": "code",
   "execution_count": 51,
   "metadata": {},
   "outputs": [],
   "source": [
    "class Fraction:\n",
    "    \n",
    "    def __init__(self,nr,dr = 1):\n",
    "        self.nr = nr\n",
    "        self.dr = dr\n",
    "        if self.dr < 0:\n",
    "            self.nr *= -1\n",
    "            self.dr *= -1\n",
    "        self._reduce()\n",
    "      \n",
    "            \n",
    "    def show(self):\n",
    "        print(f'{self.nr}/{self.dr}')\n",
    "        \n",
    "    def __mul__(self,other):\n",
    "        if isinstance(other,int):\n",
    "            other = Fraction(other)\n",
    "        f = Fraction(self.nr * other.nr , self.dr * other.dr)\n",
    "        f._reduce()\n",
    "        return f\n",
    "        \n",
    "    \n",
    "    def __add__(self,other):\n",
    "        if isinstance(other,int):\n",
    "            other = Fraction(other)\n",
    "        f = Fraction(self.nr * other.dr + other.nr * self.dr, self.dr * other.dr)\n",
    "        f._reduce()\n",
    "        return f\n",
    "    \n",
    "    def __sub__(self,other):\n",
    "        if isinstance(other,int):\n",
    "            other = Fraction(other)\n",
    "        f = Fraction(self.nr * other.dr - other.nr * self.dr, self.dr * other.dr)\n",
    "        f._reduce()\n",
    "        return f\n",
    "    \n",
    "    @staticmethod\n",
    "    def hcf(x,y):\n",
    "        x=abs(x)\n",
    "        y=abs(y)\n",
    "        smaller = y if x>y else x\n",
    "        s = smaller\n",
    "        while s>0:\n",
    "            if x%s==0 and y%s==0:\n",
    "                break\n",
    "            s-=1\n",
    "        return s\n",
    "    \n",
    "    def _reduce(self):\n",
    "        h = Fraction.hcf(self.nr, self.dr)\n",
    "        if h == 0:\n",
    "            return\n",
    "        \n",
    "        self.nr //= h\n",
    "        self.dr //= h\n",
    "        \n",
    "    def __eq__(self,other):\n",
    "        return (self.nr*other.dr) == (self.dr*other.nr)\n",
    "    \n",
    "    def __lt__(self,other):\n",
    "        return (self.nr*other.dr) < (self.dr*other.nr)\n",
    "    \n",
    "    def __str__(self):\n",
    "        return f'{self.nr}/{self.dr}'\n",
    "    \n",
    "    def __repr__(self):\n",
    "        return f'Fraction({self.nr}/{self.dr})'\n",
    "    \n",
    "    def __radd__(self,other):\n",
    "        return self.__add__(other)\n",
    "f1 = Fraction(6,36)\n",
    "f2 = Fraction(6,36)\n",
    "f3 = Fraction(1,2)"
   ]
  },
  {
   "cell_type": "code",
   "execution_count": 38,
   "metadata": {},
   "outputs": [
    {
     "name": "stdout",
     "output_type": "stream",
     "text": [
      "0/36\n"
     ]
    }
   ],
   "source": [
    "f4 = f1 - f2\n",
    "f4.show()"
   ]
  },
  {
   "cell_type": "code",
   "execution_count": 39,
   "metadata": {},
   "outputs": [
    {
     "name": "stdout",
     "output_type": "stream",
     "text": [
      "1/36\n"
     ]
    }
   ],
   "source": [
    "f5 = f1*f2\n",
    "f5.show()"
   ]
  },
  {
   "cell_type": "code",
   "execution_count": 40,
   "metadata": {},
   "outputs": [
    {
     "data": {
      "text/plain": [
       "True"
      ]
     },
     "execution_count": 40,
     "metadata": {},
     "output_type": "execute_result"
    }
   ],
   "source": [
    "f1 == f2"
   ]
  },
  {
   "cell_type": "code",
   "execution_count": 41,
   "metadata": {},
   "outputs": [
    {
     "data": {
      "text/plain": [
       "True"
      ]
     },
     "execution_count": 41,
     "metadata": {},
     "output_type": "execute_result"
    }
   ],
   "source": [
    "f1 == f1"
   ]
  },
  {
   "cell_type": "code",
   "execution_count": 42,
   "metadata": {},
   "outputs": [
    {
     "data": {
      "text/plain": [
       "True"
      ]
     },
     "execution_count": 42,
     "metadata": {},
     "output_type": "execute_result"
    }
   ],
   "source": [
    "f1 < f3"
   ]
  },
  {
   "cell_type": "code",
   "execution_count": 43,
   "metadata": {},
   "outputs": [
    {
     "name": "stdout",
     "output_type": "stream",
     "text": [
      "1/6\n"
     ]
    }
   ],
   "source": [
    "print(f1)"
   ]
  },
  {
   "cell_type": "code",
   "execution_count": 44,
   "metadata": {},
   "outputs": [
    {
     "data": {
      "text/plain": [
       "'1/6'"
      ]
     },
     "execution_count": 44,
     "metadata": {},
     "output_type": "execute_result"
    }
   ],
   "source": [
    "str(f1)#__str__"
   ]
  },
  {
   "cell_type": "code",
   "execution_count": 45,
   "metadata": {},
   "outputs": [
    {
     "data": {
      "text/plain": [
       "<__main__.Fraction at 0x210db7ee488>"
      ]
     },
     "execution_count": 45,
     "metadata": {},
     "output_type": "execute_result"
    }
   ],
   "source": [
    "f1"
   ]
  },
  {
   "cell_type": "code",
   "execution_count": 47,
   "metadata": {},
   "outputs": [
    {
     "data": {
      "text/plain": [
       "Fraction(1/6)"
      ]
     },
     "execution_count": 47,
     "metadata": {},
     "output_type": "execute_result"
    }
   ],
   "source": [
    "f1 #__repr__"
   ]
  },
  {
   "cell_type": "code",
   "execution_count": 49,
   "metadata": {},
   "outputs": [
    {
     "data": {
      "text/plain": [
       "Fraction(1/6)"
      ]
     },
     "execution_count": 49,
     "metadata": {},
     "output_type": "execute_result"
    }
   ],
   "source": [
    "f2"
   ]
  },
  {
   "cell_type": "code",
   "execution_count": 50,
   "metadata": {},
   "outputs": [
    {
     "data": {
      "text/plain": [
       "Fraction(1/2)"
      ]
     },
     "execution_count": 50,
     "metadata": {},
     "output_type": "execute_result"
    }
   ],
   "source": [
    "f3"
   ]
  },
  {
   "cell_type": "code",
   "execution_count": 52,
   "metadata": {},
   "outputs": [],
   "source": [
    "f6 = 3 + f1      #__radd__"
   ]
  },
  {
   "cell_type": "code",
   "execution_count": 53,
   "metadata": {},
   "outputs": [
    {
     "name": "stdout",
     "output_type": "stream",
     "text": [
      "19/6\n"
     ]
    }
   ],
   "source": [
    "f6.show()"
   ]
  },
  {
   "cell_type": "markdown",
   "metadata": {},
   "source": [
    "### Practice\n",
    "\n",
    "1. In the following class, write code for the methods __eq__, __lt__, __le__.\n",
    "\n",
    "\n",
    "```python\n",
    "\n",
    "class Time:\n",
    "    def __init__(self,h,m,s):\n",
    "        self._h = h \n",
    "        self._m = m\n",
    "        self._s = h\n",
    " \n",
    "    #Read-only field accessors\n",
    "    @property\n",
    "    def hours(self):\n",
    "        return self._h\n",
    " \n",
    "    @property\n",
    "    def minutes(self):\n",
    "        return self._m\n",
    " \n",
    "    @property\n",
    "    def seconds(self):\n",
    "        return self._s\n",
    " \n",
    "def _cmp(time1,time2):\n",
    "    if time1._h < time2._h:\n",
    "        return 1\n",
    "    if time1._h > time2._h:\n",
    "        return -1\n",
    "    if time1._m < time2._m:\n",
    "        return 1\n",
    "    if time1._m > time2._m:\n",
    "        return -1\n",
    "    if time1._s < time2._s:\n",
    "        return 1\n",
    "    if time1._s > time2._s:\n",
    "        return -1\n",
    "    return 0\n",
    " \n",
    "       \n",
    "t1 = Time(13, 10, 5)\n",
    "t2 = Time(5, 15, 30)\n",
    "t3 = Time(5, 15, 30)\n",
    "print(t1 < t2)\n",
    "print(t1 > t2)\n",
    "print(t1 == t2)\n",
    "print(t2 == t3)\n",
    "\n",
    "```\n",
    "\n",
    "2. Implement __add__ and __radd__ methods for the following class Length.\n",
    "\n",
    "```python\n",
    "class Length:\n",
    "    def __init__(self, feet, inches):\n",
    "        self.feet = feet  \n",
    "        self.inches = inches\n",
    " \n",
    "    def __str__(self):\n",
    "        return f'{self.feet} {self.inches}'\n",
    " \n",
    "    def add_length(self,L):\n",
    "       f = self.feet + L.feet\n",
    "       i = self.inches + L.inches\n",
    "       if i >= 12:\n",
    "           i = i - 12\n",
    "       f += 1\n",
    "       return Length(f, i)\n",
    " \n",
    "    def add_inches(self,inches):\n",
    "       f = self.feet + inches // 12\n",
    "       i = self.inches + inches % 12\n",
    "       if i >= 12:\n",
    "           i = i - 12\n",
    "       f += 1\n",
    "       return Length(f, i)\n",
    "  \n",
    " \n",
    "length1 = Length(2,10)\n",
    "length2 = Length(3,5)\n",
    "    \n",
    "print(length1 + length2)\n",
    "print(length1 + 2)\n",
    "print(length1 + 20)\n",
    "print(20 + length1)\n",
    "\n",
    "```"
   ]
  },
  {
   "cell_type": "code",
   "execution_count": 59,
   "metadata": {},
   "outputs": [
    {
     "name": "stdout",
     "output_type": "stream",
     "text": [
      "False\n",
      "True\n",
      "False\n",
      "True\n"
     ]
    }
   ],
   "source": [
    "##1\n",
    "class Time:\n",
    "    def __init__(self,h,m,s):\n",
    "        self._h = h \n",
    "        self._m = m\n",
    "        self._s = h\n",
    "\n",
    "    #Read-only field accessors\n",
    "    @property\n",
    "    def hours(self):\n",
    "        return self._h\n",
    "\n",
    "    @property\n",
    "    def minutes(self):\n",
    "        return self._m\n",
    "\n",
    "    @property\n",
    "    def seconds(self):\n",
    "        return self._s\n",
    "    \n",
    "    def __eq__(self,other):\n",
    "        if self._h == other._h and self._m == other._m and self._s == other._s:\n",
    "            return True\n",
    "        return False\n",
    "        \n",
    "    def __lt__(self,other):\n",
    "        if Time._cmp(self,other) == 1:\n",
    "            return True\n",
    "        return False\n",
    "    \n",
    "    def __le__(self,other):\n",
    "        if Time._cmp(self,other) == 1 or Time._cmp(self,other) == 0:\n",
    "            return True\n",
    "        return False\n",
    "    \n",
    "    def _cmp(time1,time2):\n",
    "        if time1._h < time2._h:\n",
    "            return 1\n",
    "        if time1._h > time2._h:\n",
    "            return -1\n",
    "        if time1._m < time2._m:\n",
    "            return 1\n",
    "        if time1._m > time2._m:\n",
    "            return -1\n",
    "        if time1._s < time2._s:\n",
    "            return 1\n",
    "        if time1._s > time2._s:\n",
    "            return -1\n",
    "        \n",
    "        return 0\n",
    "\n",
    "   \n",
    "\n",
    "\n",
    "t1 = Time(13, 10, 5)\n",
    "t2 = Time(5, 15, 30)\n",
    "t3 = Time(5, 15, 30)\n",
    "print(t1 < t2)\n",
    "print(t1 > t2)\n",
    "print(t1 == t2)\n",
    "print(t2 == t3)"
   ]
  },
  {
   "cell_type": "code",
   "execution_count": 61,
   "metadata": {},
   "outputs": [
    {
     "name": "stdout",
     "output_type": "stream",
     "text": [
      "6 3\n",
      "3 0\n",
      "4 6\n",
      "4 6\n"
     ]
    }
   ],
   "source": [
    "##2\n",
    "class Length:\n",
    "    def __init__(self, feet, inches):\n",
    "        self.feet = feet  \n",
    "        self.inches = inches\n",
    "\n",
    "    def __str__(self):\n",
    "        return f'{self.feet} {self.inches}'\n",
    "\n",
    "    def add_length(self,L):\n",
    "       f = self.feet + L.feet\n",
    "       i = self.inches + L.inches\n",
    "       if i >= 12:\n",
    "           i = i - 12\n",
    "       f += 1\n",
    "       return Length(f, i)\n",
    "\n",
    "    def add_inches(self,inches):\n",
    "       f = self.feet + inches // 12\n",
    "       i = self.inches + inches % 12\n",
    "       if i >= 12:\n",
    "           i = i - 12\n",
    "       f += 1\n",
    "       return Length(f, i)\n",
    "    \n",
    "    def __add__(self,other):\n",
    "        if isinstance(other,Length):\n",
    "            return self.add_length(other)\n",
    "        if isinstance(other,int):\n",
    "            return self.add_inches(other)\n",
    "        \n",
    "    def __radd__(self,other):\n",
    "        return self.__add__(other)\n",
    "\n",
    "        \n",
    "\n",
    "length1 = Length(2,10)\n",
    "length2 = Length(3,5)\n",
    "\n",
    "print(length1 + length2)\n",
    "print(length1 + 2)\n",
    "print(length1 + 20)\n",
    "print(20 + length1)"
   ]
  },
  {
   "cell_type": "code",
   "execution_count": null,
   "metadata": {},
   "outputs": [],
   "source": []
  }
 ],
 "metadata": {
  "kernelspec": {
   "display_name": "Python 3",
   "language": "python",
   "name": "python3"
  },
  "language_info": {
   "codemirror_mode": {
    "name": "ipython",
    "version": 3
   },
   "file_extension": ".py",
   "mimetype": "text/x-python",
   "name": "python",
   "nbconvert_exporter": "python",
   "pygments_lexer": "ipython3",
   "version": "3.7.6"
  }
 },
 "nbformat": 4,
 "nbformat_minor": 4
}
