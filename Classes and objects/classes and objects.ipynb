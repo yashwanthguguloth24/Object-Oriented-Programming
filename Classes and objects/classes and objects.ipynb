{
 "cells": [
  {
   "cell_type": "markdown",
   "metadata": {},
   "source": [
    "## Classes and objects"
   ]
  },
  {
   "cell_type": "code",
   "execution_count": 17,
   "metadata": {},
   "outputs": [],
   "source": [
    "class Person:\n",
    "    \n",
    "    def __init__(self,name):\n",
    "        self.name = name\n",
    "        \n",
    "    def showdetails(self):\n",
    "        print(\"I am from ABC company\")\n",
    "        print('my name is',self.name)\n",
    "        print('my mail is '+ self.name +'@abc.ac.in')\n",
    "        "
   ]
  },
  {
   "cell_type": "code",
   "execution_count": 19,
   "metadata": {},
   "outputs": [
    {
     "name": "stdout",
     "output_type": "stream",
     "text": [
      "I am from ABC company\n",
      "my name is dex\n",
      "my mail is dex@abc.ac.in\n"
     ]
    }
   ],
   "source": [
    "p1 = Person('dex')\n",
    "Person.showdetails(p1)"
   ]
  },
  {
   "cell_type": "code",
   "execution_count": 22,
   "metadata": {},
   "outputs": [
    {
     "name": "stdout",
     "output_type": "stream",
     "text": [
      "I am from ABC company\n",
      "my name is ravi\n",
      "my mail is ravi@abc.ac.in\n"
     ]
    }
   ],
   "source": [
    "p2 = Person('ravi')\n",
    "p2.showdetails()"
   ]
  },
  {
   "cell_type": "code",
   "execution_count": 23,
   "metadata": {},
   "outputs": [
    {
     "name": "stdout",
     "output_type": "stream",
     "text": [
      "<__main__.Person object at 0x000001BBDC687F88>\n"
     ]
    }
   ],
   "source": [
    "print(p1)"
   ]
  },
  {
   "cell_type": "code",
   "execution_count": 26,
   "metadata": {},
   "outputs": [
    {
     "data": {
      "text/plain": [
       "__main__.Person"
      ]
     },
     "execution_count": 26,
     "metadata": {},
     "output_type": "execute_result"
    }
   ],
   "source": [
    "type(p2)"
   ]
  },
  {
   "cell_type": "code",
   "execution_count": 25,
   "metadata": {},
   "outputs": [
    {
     "data": {
      "text/plain": [
       "__main__.Person"
      ]
     },
     "execution_count": 25,
     "metadata": {},
     "output_type": "execute_result"
    }
   ],
   "source": [
    "type(p1)"
   ]
  },
  {
   "cell_type": "code",
   "execution_count": 27,
   "metadata": {},
   "outputs": [
    {
     "ename": "TypeError",
     "evalue": "display() missing 1 required positional argument: 'self'",
     "output_type": "error",
     "traceback": [
      "\u001b[1;31m---------------------------------------------------------------------------\u001b[0m",
      "\u001b[1;31mTypeError\u001b[0m                                 Traceback (most recent call last)",
      "\u001b[1;32m<ipython-input-27-97962b767a48>\u001b[0m in \u001b[0;36m<module>\u001b[1;34m\u001b[0m\n\u001b[0;32m     10\u001b[0m \u001b[1;33m\u001b[0m\u001b[0m\n\u001b[0;32m     11\u001b[0m \u001b[0mt\u001b[0m \u001b[1;33m=\u001b[0m \u001b[0mTest\u001b[0m\u001b[1;33m\u001b[0m\u001b[1;33m\u001b[0m\u001b[0m\n\u001b[1;32m---> 12\u001b[1;33m \u001b[0mt\u001b[0m\u001b[1;33m.\u001b[0m\u001b[0mdisplay\u001b[0m\u001b[1;33m(\u001b[0m\u001b[1;33m)\u001b[0m\u001b[1;33m\u001b[0m\u001b[1;33m\u001b[0m\u001b[0m\n\u001b[0m",
      "\u001b[1;31mTypeError\u001b[0m: display() missing 1 required positional argument: 'self'"
     ]
    }
   ],
   "source": [
    "##test code \n",
    "\n",
    "class Test:\n",
    "    def method1(self):\n",
    "        self.x = 10\n",
    "    \n",
    "    def display(self):\n",
    "        print(self.x)\n",
    "        \n",
    "\n",
    "t = Test\n",
    "t.display()"
   ]
  },
  {
   "cell_type": "markdown",
   "metadata": {},
   "source": [
    "#### Practice\n"
   ]
  },
  {
   "cell_type": "code",
   "execution_count": 87,
   "metadata": {},
   "outputs": [],
   "source": [
    "class BankAccount:\n",
    "    \n",
    "    def set_details(self,name,balance = 0):\n",
    "        self.name = name\n",
    "        self.balance = balance\n",
    "    \n",
    "    def display(self):\n",
    "        print(self.name,self.balance)\n",
    "        \n",
    "    def deposit(self,amount):\n",
    "        self.balance += amount\n",
    "        \n",
    "    def withdraw(self,amount):\n",
    "        self.balance -= amount\n",
    "        "
   ]
  },
  {
   "cell_type": "code",
   "execution_count": 88,
   "metadata": {},
   "outputs": [],
   "source": [
    "b = BankAccount()"
   ]
  },
  {
   "cell_type": "code",
   "execution_count": 89,
   "metadata": {},
   "outputs": [],
   "source": [
    "b.set_details('yash',50000)"
   ]
  },
  {
   "cell_type": "code",
   "execution_count": 90,
   "metadata": {},
   "outputs": [
    {
     "name": "stdout",
     "output_type": "stream",
     "text": [
      "yash 50000\n"
     ]
    }
   ],
   "source": [
    "b.display()"
   ]
  },
  {
   "cell_type": "code",
   "execution_count": 91,
   "metadata": {},
   "outputs": [],
   "source": [
    "b.deposit(10000)"
   ]
  },
  {
   "cell_type": "code",
   "execution_count": 92,
   "metadata": {},
   "outputs": [
    {
     "name": "stdout",
     "output_type": "stream",
     "text": [
      "yash 60000\n"
     ]
    }
   ],
   "source": [
    "b.display()"
   ]
  },
  {
   "cell_type": "code",
   "execution_count": 93,
   "metadata": {},
   "outputs": [],
   "source": [
    "b.withdraw(5000)"
   ]
  },
  {
   "cell_type": "code",
   "execution_count": 94,
   "metadata": {},
   "outputs": [
    {
     "name": "stdout",
     "output_type": "stream",
     "text": [
      "yash 55000\n"
     ]
    }
   ],
   "source": [
    "b.display()"
   ]
  },
  {
   "cell_type": "markdown",
   "metadata": {},
   "source": [
    "### Init method"
   ]
  },
  {
   "cell_type": "code",
   "execution_count": 96,
   "metadata": {},
   "outputs": [],
   "source": [
    "#use __init__ method instead set_details for calling every time\n",
    "class BankAccount1:\n",
    "    \n",
    "    def __init__(self,name,balance = 0):\n",
    "        self.name = name\n",
    "        self.balance = balance\n",
    "    \n",
    "    def display(self):\n",
    "        print(self.name,self.balance)\n",
    "        \n",
    "    def deposit(self,amount):\n",
    "        self.balance += amount\n",
    "        \n",
    "    def withdraw(self,amount):\n",
    "        self.balance -= amount\n",
    "        \n"
   ]
  },
  {
   "cell_type": "code",
   "execution_count": 97,
   "metadata": {},
   "outputs": [],
   "source": [
    "s = BankAccount1('ravi',400)"
   ]
  },
  {
   "cell_type": "code",
   "execution_count": 98,
   "metadata": {},
   "outputs": [
    {
     "name": "stdout",
     "output_type": "stream",
     "text": [
      "ravi 400\n"
     ]
    }
   ],
   "source": [
    "s.display()"
   ]
  },
  {
   "cell_type": "code",
   "execution_count": 99,
   "metadata": {},
   "outputs": [
    {
     "name": "stdout",
     "output_type": "stream",
     "text": [
      "ravi 500\n"
     ]
    }
   ],
   "source": [
    "s.deposit(100)\n",
    "s.display()"
   ]
  },
  {
   "cell_type": "code",
   "execution_count": 100,
   "metadata": {},
   "outputs": [
    {
     "name": "stdout",
     "output_type": "stream",
     "text": [
      "ravi 200\n"
     ]
    }
   ],
   "source": [
    "s.withdraw(300)\n",
    "s.display()"
   ]
  },
  {
   "cell_type": "markdown",
   "metadata": {},
   "source": [
    "## Data Hiding"
   ]
  },
  {
   "cell_type": "code",
   "execution_count": 101,
   "metadata": {},
   "outputs": [],
   "source": [
    "## lets define a class \n",
    "\n",
    "class Product:\n",
    "    \n",
    "    def my_var(self):\n",
    "        self.a = 100\n",
    "        self.b = 1000\n",
    "        \n",
    "    def method_A(self):\n",
    "        pass\n",
    "    \n",
    "    def method_B(self):\n",
    "        pass"
   ]
  },
  {
   "cell_type": "code",
   "execution_count": 106,
   "metadata": {},
   "outputs": [],
   "source": [
    "#data hiding by '_' . we should abide the norms that this private but is accesible..\n",
    "\n",
    "class Product:\n",
    "    \n",
    "    def __init__(self):\n",
    "        self.a = 100\n",
    "        self._b = 1000\n",
    "        \n",
    "    def methodA(self):\n",
    "        pass\n",
    "    \n",
    "    def _methodB(self):\n",
    "        pass\n",
    "\n",
    "    "
   ]
  },
  {
   "cell_type": "code",
   "execution_count": 107,
   "metadata": {},
   "outputs": [
    {
     "data": {
      "text/plain": [
       "100"
      ]
     },
     "execution_count": 107,
     "metadata": {},
     "output_type": "execute_result"
    }
   ],
   "source": [
    "p = Product()\n",
    "p.a"
   ]
  },
  {
   "cell_type": "code",
   "execution_count": 108,
   "metadata": {},
   "outputs": [
    {
     "data": {
      "text/plain": [
       "1000"
      ]
     },
     "execution_count": 108,
     "metadata": {},
     "output_type": "execute_result"
    }
   ],
   "source": [
    "## accesing private data\n",
    "p._b"
   ]
  },
  {
   "cell_type": "code",
   "execution_count": 110,
   "metadata": {},
   "outputs": [],
   "source": [
    "p._methodB()"
   ]
  },
  {
   "cell_type": "code",
   "execution_count": 111,
   "metadata": {},
   "outputs": [],
   "source": [
    "## using '__'changes the name and can't access it directly\n",
    "class Product1:\n",
    "    \n",
    "    def __init__(self):\n",
    "        self.a = 100\n",
    "        self.__b = 1000\n",
    "        \n",
    "    def methodA(self):\n",
    "        pass\n",
    "    \n",
    "    def __methodB(self):\n",
    "        pass\n"
   ]
  },
  {
   "cell_type": "code",
   "execution_count": 112,
   "metadata": {},
   "outputs": [
    {
     "data": {
      "text/plain": [
       "100"
      ]
     },
     "execution_count": 112,
     "metadata": {},
     "output_type": "execute_result"
    }
   ],
   "source": [
    "e = Product1()\n",
    "e.a"
   ]
  },
  {
   "cell_type": "code",
   "execution_count": 113,
   "metadata": {},
   "outputs": [
    {
     "ename": "AttributeError",
     "evalue": "'Product1' object has no attribute '__b'",
     "output_type": "error",
     "traceback": [
      "\u001b[1;31m---------------------------------------------------------------------------\u001b[0m",
      "\u001b[1;31mAttributeError\u001b[0m                            Traceback (most recent call last)",
      "\u001b[1;32m<ipython-input-113-244b156e63bb>\u001b[0m in \u001b[0;36m<module>\u001b[1;34m\u001b[0m\n\u001b[1;32m----> 1\u001b[1;33m \u001b[0me\u001b[0m\u001b[1;33m.\u001b[0m\u001b[0m__b\u001b[0m\u001b[1;33m\u001b[0m\u001b[1;33m\u001b[0m\u001b[0m\n\u001b[0m",
      "\u001b[1;31mAttributeError\u001b[0m: 'Product1' object has no attribute '__b'"
     ]
    }
   ],
   "source": [
    "e.__b"
   ]
  },
  {
   "cell_type": "code",
   "execution_count": 114,
   "metadata": {},
   "outputs": [
    {
     "ename": "AttributeError",
     "evalue": "'Product1' object has no attribute '__methodB'",
     "output_type": "error",
     "traceback": [
      "\u001b[1;31m---------------------------------------------------------------------------\u001b[0m",
      "\u001b[1;31mAttributeError\u001b[0m                            Traceback (most recent call last)",
      "\u001b[1;32m<ipython-input-114-b4c4be038460>\u001b[0m in \u001b[0;36m<module>\u001b[1;34m\u001b[0m\n\u001b[1;32m----> 1\u001b[1;33m \u001b[0me\u001b[0m\u001b[1;33m.\u001b[0m\u001b[0m__methodB\u001b[0m\u001b[1;33m(\u001b[0m\u001b[1;33m)\u001b[0m\u001b[1;33m\u001b[0m\u001b[1;33m\u001b[0m\u001b[0m\n\u001b[0m",
      "\u001b[1;31mAttributeError\u001b[0m: 'Product1' object has no attribute '__methodB'"
     ]
    }
   ],
   "source": [
    "e.__methodB()"
   ]
  },
  {
   "cell_type": "code",
   "execution_count": 115,
   "metadata": {},
   "outputs": [
    {
     "data": {
      "text/plain": [
       "['_Product1__b',\n",
       " '_Product1__methodB',\n",
       " '__class__',\n",
       " '__delattr__',\n",
       " '__dict__',\n",
       " '__dir__',\n",
       " '__doc__',\n",
       " '__eq__',\n",
       " '__format__',\n",
       " '__ge__',\n",
       " '__getattribute__',\n",
       " '__gt__',\n",
       " '__hash__',\n",
       " '__init__',\n",
       " '__init_subclass__',\n",
       " '__le__',\n",
       " '__lt__',\n",
       " '__module__',\n",
       " '__ne__',\n",
       " '__new__',\n",
       " '__reduce__',\n",
       " '__reduce_ex__',\n",
       " '__repr__',\n",
       " '__setattr__',\n",
       " '__sizeof__',\n",
       " '__str__',\n",
       " '__subclasshook__',\n",
       " '__weakref__',\n",
       " 'a',\n",
       " 'methodA']"
      ]
     },
     "execution_count": 115,
     "metadata": {},
     "output_type": "execute_result"
    }
   ],
   "source": [
    "dir(e)"
   ]
  },
  {
   "cell_type": "code",
   "execution_count": 116,
   "metadata": {},
   "outputs": [
    {
     "data": {
      "text/plain": [
       "1000"
      ]
     },
     "execution_count": 116,
     "metadata": {},
     "output_type": "execute_result"
    }
   ],
   "source": [
    "##so access it by '_Product1__b', '_Product1__methodB'\n",
    "\n",
    "e._Product1__b"
   ]
  },
  {
   "cell_type": "code",
   "execution_count": 117,
   "metadata": {},
   "outputs": [],
   "source": [
    "e._Product1__methodB()"
   ]
  },
  {
   "cell_type": "markdown",
   "metadata": {},
   "source": [
    "-----------------------------------------------\n",
    "## Property\n"
   ]
  },
  {
   "cell_type": "code",
   "execution_count": 1,
   "metadata": {},
   "outputs": [],
   "source": [
    "class Product:\n",
    "    def __init__(self,x,y):\n",
    "        self._x = x\n",
    "        self._y = y\n",
    "        \n",
    "    def display(self):\n",
    "        print(self._x,self._y)\n",
    "        \n",
    "    def multiply(self):\n",
    "        return self._x*self._y"
   ]
  },
  {
   "cell_type": "code",
   "execution_count": 17,
   "metadata": {},
   "outputs": [],
   "source": [
    "p = Product(10,20)"
   ]
  },
  {
   "cell_type": "code",
   "execution_count": 11,
   "metadata": {},
   "outputs": [
    {
     "data": {
      "text/plain": [
       "200"
      ]
     },
     "execution_count": 11,
     "metadata": {},
     "output_type": "execute_result"
    }
   ],
   "source": [
    "p.multiply()"
   ]
  },
  {
   "cell_type": "code",
   "execution_count": 12,
   "metadata": {},
   "outputs": [],
   "source": [
    "##now we can directly call x as p.x by property\n",
    "class Product:\n",
    "    def __init__(self,x,y):\n",
    "        self._x = x\n",
    "        self._y = y\n",
    "        \n",
    "    def display(self):\n",
    "        print(self._x,self._y)\n",
    "        \n",
    "    def multiply(self):\n",
    "        return self._x*self._y\n",
    "    \n",
    "    @property\n",
    "    def x(self):\n",
    "        return self._x\n"
   ]
  },
  {
   "cell_type": "code",
   "execution_count": 13,
   "metadata": {},
   "outputs": [
    {
     "data": {
      "text/plain": [
       "10"
      ]
     },
     "execution_count": 13,
     "metadata": {},
     "output_type": "execute_result"
    }
   ],
   "source": [
    "p.x"
   ]
  },
  {
   "cell_type": "code",
   "execution_count": 14,
   "metadata": {},
   "outputs": [
    {
     "ename": "AttributeError",
     "evalue": "can't set attribute",
     "output_type": "error",
     "traceback": [
      "\u001b[1;31m---------------------------------------------------------------------------\u001b[0m",
      "\u001b[1;31mAttributeError\u001b[0m                            Traceback (most recent call last)",
      "\u001b[1;32m<ipython-input-14-577cb9285d98>\u001b[0m in \u001b[0;36m<module>\u001b[1;34m\u001b[0m\n\u001b[0;32m      1\u001b[0m \u001b[1;31m# but cannot change self.x\u001b[0m\u001b[1;33m\u001b[0m\u001b[1;33m\u001b[0m\u001b[1;33m\u001b[0m\u001b[0m\n\u001b[1;32m----> 2\u001b[1;33m \u001b[0mp\u001b[0m\u001b[1;33m.\u001b[0m\u001b[0mx\u001b[0m \u001b[1;33m=\u001b[0m \u001b[1;36m25\u001b[0m\u001b[1;33m\u001b[0m\u001b[1;33m\u001b[0m\u001b[0m\n\u001b[0m",
      "\u001b[1;31mAttributeError\u001b[0m: can't set attribute"
     ]
    }
   ],
   "source": [
    "# but cannot change self.x\n",
    "p.x = 25"
   ]
  },
  {
   "cell_type": "code",
   "execution_count": 16,
   "metadata": {},
   "outputs": [],
   "source": [
    "## using setter to do that\n",
    "\n",
    "class Product:\n",
    "    def __init__(self,x,y):\n",
    "        self._x = x\n",
    "        self._y = y\n",
    "        \n",
    "    def display(self):\n",
    "        print(self._x,self._y)\n",
    "        \n",
    "    def multiply(self):\n",
    "        return self._x*self._y\n",
    "    \n",
    "    @property\n",
    "    def x(self):\n",
    "        return self._x\n",
    "    \n",
    "    @x.setter\n",
    "    def x(self,value):\n",
    "        self._x = value\n",
    "\n"
   ]
  },
  {
   "cell_type": "code",
   "execution_count": 18,
   "metadata": {},
   "outputs": [],
   "source": [
    "p.x = 20"
   ]
  },
  {
   "cell_type": "code",
   "execution_count": 19,
   "metadata": {},
   "outputs": [
    {
     "data": {
      "text/plain": [
       "400"
      ]
     },
     "execution_count": 19,
     "metadata": {},
     "output_type": "execute_result"
    }
   ],
   "source": [
    "p.multiply()"
   ]
  },
  {
   "cell_type": "code",
   "execution_count": 20,
   "metadata": {},
   "outputs": [
    {
     "data": {
      "text/plain": [
       "800"
      ]
     },
     "execution_count": 20,
     "metadata": {},
     "output_type": "execute_result"
    }
   ],
   "source": [
    "p.x = p.x + 20\n",
    "p.multiply()"
   ]
  },
  {
   "cell_type": "code",
   "execution_count": 21,
   "metadata": {},
   "outputs": [
    {
     "name": "stdout",
     "output_type": "stream",
     "text": [
      "40 20\n"
     ]
    }
   ],
   "source": [
    "p.display()"
   ]
  },
  {
   "cell_type": "markdown",
   "metadata": {},
   "source": [
    "#### Practice-2"
   ]
  },
  {
   "cell_type": "markdown",
   "metadata": {},
   "source": [
    "1. In the BankAccount class that you had created in the previous exercise, delete the set_details() method and create an __init__ method.\n",
    "\n",
    "\n",
    "\n",
    "2. Create a class named Book with an __init__ method. Inside the __init__ method, create the instance variables isbn, title, author, publisher, pages, price, copies.\n",
    "\n",
    "Create these four instance objects from this class.\n",
    "\n",
    "```python\n",
    "\n",
    "\n",
    "     book1 = Book('957-4-36-547417-1', 'Learn Physics','Stephen', 'CBC', 350, 200,10)\n",
    "     book2 = Book('652-6-86-748413-3', 'Learn Chemistry','Jack', 'CBC', 400, 220,20)\n",
    "     book3 = Book('957-7-39-347216-2', 'Learn Maths','John', 'XYZ', 500, 300,5)\n",
    "     book4 = Book('957-7-39-347216-2', 'Learn Biology','Jack', 'XYZ', 400, 200,6)\n",
    "  \n",
    "        \n",
    "```\n",
    "     \n",
    "Write a method display that prints the isbn, title, price and number of copies of the book.\n",
    "\n",
    "\n",
    "\n",
    "3. For the Book class that you have created, write a method named in_stock that returns True if number of copies is more than zero, otherwise it returns False.\n",
    "\n",
    "Create another method named sell that decreases the number of copies by 1 if the book is in stock, otherwise it prints the message that the book is out of stock.\n",
    "\n",
    "   \n",
    "\n",
    "4. Create a list named books that contains the 4 Book instance objects that you have created in question 2. Iterate over this list using a for loop and call display() for each object in the list.\n",
    "\n",
    "Write a list comprehension to create another list that contains title of books written by Jack.\n",
    "\n",
    "\n",
    "\n",
    "5. In the Book class, create a property named price such that the price of a book cannot be less than 50 or more than 1000.\n",
    "\n",
    "\n",
    "\n",
    "6. Make a class Fraction that contains two instance variables, nr and dr (nr stands for numerator and dr for denominator). Define an __init__ method that provides values for these instance variables. Make the denominator optional by providing a default argument of 1.\n",
    "\n",
    "In the __init__ method, make the denominator positive if it is negative. For example  -2/-3 should be changed to 2/3 and 2/-3 to -2/3.\n",
    "\n",
    "Write a method named show that prints numerator, then '/' and then the denominator.\n",
    "\n",
    "\n",
    "\n",
    "7. Define a method named multiply that multiples two Fraction instance objects. For multiplying two fractions, you have to multiply the numerator with numerator and denominator with the denominator.\n",
    "\n",
    "Inside the method, create a new instance object that is the product of the two fractions and return it. Write your method in such a way that it supports multiplication of a Fraction by an integer also.\n",
    "\n",
    "Similarly define a method named add to add two Fraction instance objects. Sum of two fractions n1/d1 and n2/d2 is (n1*d2 + n2*d1) / (d1*d2). This method should also support addition of a Fraction by an integer.\n",
    "\n",
    "Test your fraction class with this code.\n",
    "\n",
    "\n",
    "```python\n",
    "\n",
    "f1 = Fraction(2,3)\n",
    "f1.show()\n",
    "f2 = Fraction(3,4)\n",
    "f2.show()\n",
    "f3 = f1.multiply(f2)\n",
    "f3.show()\n",
    "f3 = f1.add(f2)\n",
    "f3.show()\n",
    "f3 = f1.add(5) \n",
    "f3.show()\n",
    "f3 = f1.multiply(5) \n",
    "f3.show()\n",
    "  \n",
    "```\n",
    "     \n",
    "The output that you should get is given below.\n",
    "\n",
    "     2/3\n",
    "\n",
    "     3/4\n",
    "\n",
    "     6/12\n",
    "\n",
    "     17/12\n",
    "\n",
    "     17/3\n",
    "\n",
    "     10/3\n",
    "\n",
    "\n",
    "\n",
    "8. For the following class Product, create a read only property named selling_price that is calculated by deducting discount from the marked_price. The instance variable discount represents discount in percent.   \n",
    "  \n",
    "  \n",
    "```python\n",
    "\n",
    "class Product():\n",
    "    def __init__(self, id, marked_price, discount):\n",
    "        self.id = id\n",
    "        self.marked_price = marked_price\n",
    "        self.discount = discount\n",
    "    \n",
    "    def display(self):\n",
    "        print(self.id,  self.marked_price,  self.discount)\n",
    "    \n",
    "p1 = Product('X879', 400, 6)\n",
    "p2 = Product('A234', 100, 5)\n",
    "p3 = Product('B987', 990, 4)\n",
    "p4 = Product('H456', 800, 6)\n",
    "\n",
    "```\n",
    "\n",
    "\n",
    "9. Suppose after some time, you want to give an additional 2% discount on a product, if its price is above 500. To incorporate this change, implement discount as a property in your Product class.\n",
    "\n",
    "\n",
    "\n",
    "10. Write a Circle class with an instance variable named radius and a method named area. Create two more attributes named diameter and circumference and make them behave as read only attributes. \n",
    "\n",
    "Perform data validation on radius, user should not be allowed to assign a negative value to it.\n",
    "\n",
    "For a circle\n",
    "\n",
    "diameter =  2 * radius\n",
    "\n",
    "circumference =  2 * 3.14 * radius\n",
    "\n",
    "area =  3.14 * radius * radius\n",
    "\n",
    "\n",
    "\n"
   ]
  },
  {
   "cell_type": "markdown",
   "metadata": {},
   "source": [
    "#### 2.\n"
   ]
  },
  {
   "cell_type": "code",
   "execution_count": 2,
   "metadata": {},
   "outputs": [],
   "source": [
    "class Book:\n",
    "    def __init__(self,isbn,title,author,publisher,pages,price,copies):\n",
    "        self.isbn = isbn\n",
    "        self.title = title\n",
    "        self.author = author\n",
    "        self.publisher = publisher\n",
    "        self.pages = pages\n",
    "        self.price = price\n",
    "        self.copies = copies\n",
    "        "
   ]
  },
  {
   "cell_type": "code",
   "execution_count": 65,
   "metadata": {},
   "outputs": [],
   "source": [
    "book1 = Book('957-4-36-547417-1', 'Learn Physics','Stephen', 'CBC', 350, 200,10)\n",
    "book2 = Book('652-6-86-748413-3', 'Learn Chemistry','Jack', 'CBC', 400, 220,20)\n",
    "book3 = Book('957-7-39-347216-2', 'Learn Maths','John', 'XYZ', 500, 300,5)\n",
    "book4 = Book('957-7-39-347216-2', 'Learn Biology','Jack', 'XYZ', 400, 200,6)"
   ]
  },
  {
   "cell_type": "code",
   "execution_count": 66,
   "metadata": {},
   "outputs": [],
   "source": [
    "#Write a method display that prints the isbn, title, price and number of copies of the book.\n",
    "class Book:\n",
    "    def __init__(self,isbn,title,author,publisher,pages,price,copies):\n",
    "        self.isbn = isbn\n",
    "        self.title = title\n",
    "        self.author = author\n",
    "        self.publisher = publisher\n",
    "        self.pages = pages\n",
    "        self.price = price\n",
    "        self.copies = copies\n",
    "        \n",
    "    def display(self):\n",
    "        print(self.isbn,self.title,self.price,self.copies)"
   ]
  },
  {
   "cell_type": "code",
   "execution_count": 67,
   "metadata": {},
   "outputs": [
    {
     "name": "stdout",
     "output_type": "stream",
     "text": [
      "957-4-36-547417-1 Learn Physics 200 10\n"
     ]
    }
   ],
   "source": [
    "book1.display()"
   ]
  },
  {
   "cell_type": "markdown",
   "metadata": {},
   "source": [
    "#### 3"
   ]
  },
  {
   "cell_type": "code",
   "execution_count": 68,
   "metadata": {},
   "outputs": [],
   "source": [
    "#For the Book class that you have created, write a method named in_stock that returns True if \n",
    "#number of copies is more than zero, otherwise it returns False.\n",
    "\n",
    "class Book:\n",
    "    def __init__(self,isbn,title,author,publisher,pages,price,copies):\n",
    "        self.isbn = isbn\n",
    "        self.title = title\n",
    "        self.author = author\n",
    "        self.publisher = publisher\n",
    "        self.pages = pages\n",
    "        self.price = price\n",
    "        self.copies = copies\n",
    "        \n",
    "    def display(self):\n",
    "        print(self.isbn,self.title,self.price,self.copies)\n",
    "        \n",
    "    def in_stock(self):\n",
    "        if self.copies == 0:\n",
    "            return False\n",
    "        \n",
    "        return True"
   ]
  },
  {
   "cell_type": "code",
   "execution_count": 69,
   "metadata": {},
   "outputs": [
    {
     "data": {
      "text/plain": [
       "True"
      ]
     },
     "execution_count": 69,
     "metadata": {},
     "output_type": "execute_result"
    }
   ],
   "source": [
    "book1 = Book('957-4-36-547417-1', 'Learn Physics','Stephen', 'CBC', 350, 200,10)\n",
    "book2 = Book('652-6-86-748413-3', 'Learn Chemistry','Jack', 'CBC', 400, 220,20)\n",
    "book3 = Book('957-7-39-347216-2', 'Learn Maths','John', 'XYZ', 500, 300,5)\n",
    "book4 = Book('957-7-39-347216-2', 'Learn Biology','Jack', 'XYZ', 400, 200,6)\n",
    "book1.in_stock()"
   ]
  },
  {
   "cell_type": "code",
   "execution_count": 70,
   "metadata": {},
   "outputs": [],
   "source": [
    "#Create another method named sell that decreases the number of copies by 1 if \n",
    "#the book is in stock, otherwise it prints the message that the book is out of stock.\n",
    "class Book:\n",
    "    def __init__(self,isbn,title,author,publisher,pages,price,copies):\n",
    "        self.isbn = isbn\n",
    "        self.title = title\n",
    "        self.author = author\n",
    "        self.publisher = publisher\n",
    "        self.pages = pages\n",
    "        self.price = price\n",
    "        self.copies = copies\n",
    "        \n",
    "    def display(self):\n",
    "        print(self.isbn,self.title,self.price,self.copies)\n",
    "        \n",
    "    def in_stock(self):\n",
    "        if self.copies == 0:\n",
    "            return False\n",
    "        \n",
    "        return True\n",
    "    \n",
    "    def sell(self):\n",
    "        if self.copies > 0:\n",
    "            self.copies = self.copies - 1\n",
    "        else:\n",
    "            print('the book is out of stock')"
   ]
  },
  {
   "cell_type": "markdown",
   "metadata": {},
   "source": [
    "#### 4"
   ]
  },
  {
   "cell_type": "code",
   "execution_count": 71,
   "metadata": {},
   "outputs": [
    {
     "name": "stdout",
     "output_type": "stream",
     "text": [
      "957-4-36-547417-1 Learn Physics 200 10\n",
      "652-6-86-748413-3 Learn Chemistry 220 20\n",
      "957-7-39-347216-2 Learn Maths 300 5\n",
      "957-7-39-347216-2 Learn Biology 200 6\n",
      "['Learn Chemistry', 'Learn Biology']\n"
     ]
    }
   ],
   "source": [
    "#Create a list named books that contains the 4 Book instance objects that you have created in question 2. \n",
    "#Iterate over this list using a for loop and call display() for each object in the list.\n",
    "#Write a list comprehension to create another list that contains title of books written by Jack.\n",
    "book = [book1,book2,book3,book4]\n",
    "for books in book:\n",
    "    books.display()\n",
    "    \n",
    "lst_comp = [books.title  for books in book if books.author=='Jack']\n",
    "print(lst_comp)"
   ]
  },
  {
   "cell_type": "markdown",
   "metadata": {},
   "source": [
    "##### 5.In the Book class, create a property named price such that the price of a book cannot be less than 50 or more than 1000"
   ]
  },
  {
   "cell_type": "code",
   "execution_count": 72,
   "metadata": {},
   "outputs": [],
   "source": [
    "class Book:\n",
    "    def __init__(self,isbn,title,author,publisher,pages,price,copies):\n",
    "        self.isbn = isbn\n",
    "        self.title = title\n",
    "        self.author = author\n",
    "        self.publisher = publisher\n",
    "        self.pages = pages\n",
    "        self.price = price\n",
    "        self.copies = copies\n",
    "        \n",
    "    def display(self):\n",
    "        print(self.isbn,self.title,self.price,self.copies)\n",
    "        \n",
    "    def in_stock(self):\n",
    "        if self.copies == 0:\n",
    "            return False\n",
    "        \n",
    "        return True\n",
    "    \n",
    "    def sell(self):\n",
    "        if self.copies > 0:\n",
    "            self.copies = self.copies - 1\n",
    "        else:\n",
    "            print('the book is out of stock')\n",
    "            \n",
    "    @property\n",
    "    def price(self):\n",
    "        return self._price\n",
    "    \n",
    "    @price.setter\n",
    "    def price(self, new_price):\n",
    "        if 50 <= new_price <= 1000:\n",
    "            self._price = new_price\n",
    "        else:\n",
    "            print('Price cannot be less than 50 or more than 1000')\n",
    "            \n",
    "#     @property\n",
    "#     def price(self):\n",
    "#        return self._price\n",
    "   \n",
    "#     @price.setter\n",
    "#     def price(self,new_price):\n",
    "        \n",
    "#         if  (50 <= new_price <= 1000):\n",
    "#             self._price = new_price  \n",
    "#         else:\n",
    "#             raise ValueError ('Price cannot be less than 50 or more than 1000')\n",
    "        \n"
   ]
  },
  {
   "cell_type": "code",
   "execution_count": 80,
   "metadata": {},
   "outputs": [
    {
     "data": {
      "text/plain": [
       "250"
      ]
     },
     "execution_count": 80,
     "metadata": {},
     "output_type": "execute_result"
    }
   ],
   "source": [
    "book1.price"
   ]
  },
  {
   "cell_type": "code",
   "execution_count": 81,
   "metadata": {},
   "outputs": [
    {
     "data": {
      "text/plain": [
       "250"
      ]
     },
     "execution_count": 81,
     "metadata": {},
     "output_type": "execute_result"
    }
   ],
   "source": [
    "book1.price = 250\n",
    "book1.price"
   ]
  },
  {
   "cell_type": "markdown",
   "metadata": {},
   "source": [
    "#### 6.Make a class Fraction that contains two instance variables, nr and dr (nr stands for numerator and dr for denominator). Define an init method that provides values for these instance variables. Make the denominator optional by providing a default argument of 1.\n",
    "In the init method, make the denominator positive if it is negative. For example -2/-3 should be changed to 2/3 and 2/-3 to -2/3.\n",
    "Write a method named show that prints numerator, then '/' and then the denominator."
   ]
  },
  {
   "cell_type": "code",
   "execution_count": 90,
   "metadata": {},
   "outputs": [],
   "source": [
    "class Fraction:\n",
    "    \n",
    "    def __init__(self,nr,dr = 1):\n",
    "        self.nr = nr\n",
    "        self.dr = dr\n",
    "        if self.dr < 0:\n",
    "            self.nr *= -1\n",
    "            self.dr *= -1\n",
    "            \n",
    "    def show(self):\n",
    "        print(f'{self.nr}/{self.dr}')\n",
    "   "
   ]
  },
  {
   "cell_type": "code",
   "execution_count": 91,
   "metadata": {},
   "outputs": [
    {
     "name": "stdout",
     "output_type": "stream",
     "text": [
      "2/3\n"
     ]
    }
   ],
   "source": [
    "f = Fraction(-2,-3)\n",
    "f.show()"
   ]
  },
  {
   "cell_type": "markdown",
   "metadata": {},
   "source": [
    "#### 7"
   ]
  },
  {
   "cell_type": "code",
   "execution_count": 92,
   "metadata": {},
   "outputs": [],
   "source": [
    "class Fraction:\n",
    "    \n",
    "    def __init__(self,nr,dr = 1):\n",
    "        self.nr = nr\n",
    "        self.dr = dr\n",
    "        if self.dr < 0:\n",
    "            self.nr *= -1\n",
    "            self.dr *= -1\n",
    "            \n",
    "    def show(self):\n",
    "        print(f'{self.nr}/{self.dr}')\n",
    "        \n",
    "    def multiply(self,other):\n",
    "        if isinstance(other,int):\n",
    "            other = Fraction(other)\n",
    "        return Fraction(self.nr * other.nr , self.dr * other.dr)\n",
    "    \n",
    "    def add(self,other):\n",
    "        if isinstance(other,int):\n",
    "            other = Fraction(other)\n",
    "        return Fraction(self.nr*other.dr + self.dr*other.nr , self.dr*other.dr)\n",
    "   "
   ]
  },
  {
   "cell_type": "code",
   "execution_count": 93,
   "metadata": {},
   "outputs": [
    {
     "name": "stdout",
     "output_type": "stream",
     "text": [
      "2/3\n",
      "3/4\n",
      "6/12\n",
      "17/12\n",
      "17/3\n",
      "10/3\n"
     ]
    }
   ],
   "source": [
    "f1 = Fraction(2,3)\n",
    "f1.show()\n",
    "f2 = Fraction(3,4)\n",
    "f2.show()\n",
    "f3 = f1.multiply(f2)\n",
    "f3.show()\n",
    "f3 = f1.add(f2)\n",
    "f3.show()\n",
    "f3 = f1.add(5) \n",
    "f3.show()\n",
    "f3 = f1.multiply(5) \n",
    "f3.show()"
   ]
  },
  {
   "cell_type": "markdown",
   "metadata": {},
   "source": [
    "8.For the following class Product, create a read only property named selling_price that is calculated by deducting discount from the marked_price. The instance variable discount represents discount in percent"
   ]
  },
  {
   "cell_type": "code",
   "execution_count": 101,
   "metadata": {},
   "outputs": [],
   "source": [
    "class Product():\n",
    "    def __init__(self, id, marked_price, discount):\n",
    "        self.id = id\n",
    "        self.marked_price = marked_price\n",
    "        self.discount = discount\n",
    "\n",
    "    def display(self):\n",
    "        print(self.id,  self.marked_price,  self.discount)\n",
    "        \n",
    "    @property\n",
    "    def selling_price(self):\n",
    "        return self.marked_price-(self.discount*self.marked_price/100)\n",
    "\n",
    "p1 = Product('X879', 400, 6)\n",
    "p2 = Product('A234', 100, 5)\n",
    "p3 = Product('B987', 990, 4)\n",
    "p4 = Product('H456', 800, 6)"
   ]
  },
  {
   "cell_type": "code",
   "execution_count": 102,
   "metadata": {},
   "outputs": [
    {
     "data": {
      "text/plain": [
       "376.0"
      ]
     },
     "execution_count": 102,
     "metadata": {},
     "output_type": "execute_result"
    }
   ],
   "source": [
    "p1.selling_price"
   ]
  },
  {
   "cell_type": "markdown",
   "metadata": {},
   "source": [
    "9."
   ]
  },
  {
   "cell_type": "code",
   "execution_count": 104,
   "metadata": {},
   "outputs": [],
   "source": [
    "class Product():\n",
    "    def __init__(self, id, marked_price, discount):\n",
    "        self.id = id\n",
    "        self.marked_price = marked_price\n",
    "        self.discount = discount\n",
    "\n",
    "    def display(self):\n",
    "        print(self.id,  self.marked_price,  self.discount)\n",
    "        \n",
    "    @property\n",
    "    def selling_price(self):\n",
    "        return self.marked_price-(self.discount*self.marked_price/100)\n",
    "\n",
    "    @property\n",
    "    def discount(self):\n",
    "        return self._discount+2 if self.marked_price > 500 else self._discount\n",
    " \n",
    "    @discount.setter\n",
    "    def discount(self, new_discount):\n",
    "        self._discount = new_discount\n",
    "        \n",
    "    def display(self):\n",
    "        print(self.id, self.marked_price, self.discount)\n",
    "              \n",
    "              \n",
    "p1 = Product('X879', 400, 6)\n",
    "p2 = Product('A234', 100, 5)\n",
    "p3 = Product('B987', 990, 4)\n",
    "p4 = Product('H456', 800, 6)"
   ]
  },
  {
   "cell_type": "code",
   "execution_count": 105,
   "metadata": {},
   "outputs": [
    {
     "name": "stdout",
     "output_type": "stream",
     "text": [
      "X879 376.0\n",
      "A234 95.0\n",
      "B987 930.6\n",
      "H456 736.0\n",
      "H456 704.0\n"
     ]
    }
   ],
   "source": [
    "print(p1.id, p1.selling_price)\n",
    "print(p2.id, p2.selling_price)\n",
    "print(p3.id, p3.selling_price)\n",
    "print(p4.id, p4.selling_price)\n",
    " \n",
    "p4.discount = 10\n",
    "print(p4.id, p4.selling_price)  "
   ]
  },
  {
   "cell_type": "markdown",
   "metadata": {},
   "source": [
    "## 10"
   ]
  },
  {
   "cell_type": "code",
   "execution_count": 119,
   "metadata": {},
   "outputs": [
    {
     "name": "stdout",
     "output_type": "stream",
     "text": [
      "7 14 43.96 153.86\n"
     ]
    }
   ],
   "source": [
    "    \n",
    "class Circle:\n",
    "    def __init__(self, radius):\n",
    "        self.radius = radius\n",
    " \n",
    "    @property\n",
    "    def radius(self):\n",
    "        return self._radius\n",
    " \n",
    "    @radius.setter\n",
    "    def radius(self, new_radius):\n",
    "        if new_radius > 0:\n",
    "            self._radius = new_radius\n",
    "        else:\n",
    "            raise ValueError('Radius should be positive')\n",
    " \n",
    "    @property\n",
    "    def diameter(self):\n",
    "        return self._radius * 2\n",
    " \n",
    "    @property\n",
    "    def circumference(self):\n",
    "        return 2 * 3.14 * self._radius\n",
    " \n",
    "    def area(self):\n",
    "        return 3.14 * self._radius * self._radius\n",
    " \n",
    "c1 = Circle(7)\n",
    "print( c1.radius, c1.diameter, c1.circumference, c1.area() )\n",
    " "
   ]
  },
  {
   "cell_type": "markdown",
   "metadata": {},
   "source": [
    "No space between __class__ and __init__"
   ]
  },
  {
   "cell_type": "markdown",
   "metadata": {},
   "source": [
    "## class variable"
   ]
  },
  {
   "cell_type": "code",
   "execution_count": 2,
   "metadata": {},
   "outputs": [
    {
     "name": "stdout",
     "output_type": "stream",
     "text": [
      "james 111 5000\n",
      "jack 110 6000\n"
     ]
    }
   ],
   "source": [
    "class Bankaccount:\n",
    "    min_balance = 3000\n",
    "    def __init__(self,name,acc_no,balance):\n",
    "        self.holder_name = name\n",
    "        self.acc_no = acc_no\n",
    "        self.balance = balance\n",
    "    \n",
    "    def display(self):\n",
    "        print(self.holder_name ,self.acc_no ,self.balance)\n",
    "        \n",
    "b1 = Bankaccount('james',111,5000)\n",
    "b2 = Bankaccount('jack',110,6000)\n",
    "b1.display()\n",
    "b2.display()"
   ]
  },
  {
   "cell_type": "code",
   "execution_count": 8,
   "metadata": {},
   "outputs": [
    {
     "data": {
      "text/plain": [
       "3000"
      ]
     },
     "execution_count": 8,
     "metadata": {},
     "output_type": "execute_result"
    }
   ],
   "source": [
    "b2.min_balance"
   ]
  },
  {
   "cell_type": "code",
   "execution_count": 5,
   "metadata": {},
   "outputs": [
    {
     "data": {
      "text/plain": [
       "3000"
      ]
     },
     "execution_count": 5,
     "metadata": {},
     "output_type": "execute_result"
    }
   ],
   "source": [
    "b2.min_balance"
   ]
  },
  {
   "cell_type": "code",
   "execution_count": 6,
   "metadata": {},
   "outputs": [
    {
     "data": {
      "text/plain": [
       "3000"
      ]
     },
     "execution_count": 6,
     "metadata": {},
     "output_type": "execute_result"
    }
   ],
   "source": [
    "Bankaccount.min_balance"
   ]
  },
  {
   "cell_type": "code",
   "execution_count": 7,
   "metadata": {},
   "outputs": [
    {
     "name": "stdout",
     "output_type": "stream",
     "text": [
      "2215489364624\n",
      "2215489364624\n",
      "2215489364624\n"
     ]
    }
   ],
   "source": [
    "print(id(b1.min_balance ))\n",
    "print(id(b2.min_balance ))\n",
    "print(id(Bankaccount.min_balance))"
   ]
  },
  {
   "cell_type": "code",
   "execution_count": 9,
   "metadata": {},
   "outputs": [
    {
     "data": {
      "text/plain": [
       "4000"
      ]
     },
     "execution_count": 9,
     "metadata": {},
     "output_type": "execute_result"
    }
   ],
   "source": [
    "##if we try to change it using instance variable it will create a other instance of that instance variable\n",
    "Bankaccount.min_balance = 4000\n",
    "b2.min_balance"
   ]
  },
  {
   "cell_type": "code",
   "execution_count": 11,
   "metadata": {},
   "outputs": [
    {
     "name": "stdout",
     "output_type": "stream",
     "text": [
      "2215479277936\n",
      "2215479277936\n",
      "2215479277936\n"
     ]
    }
   ],
   "source": [
    "b1.min_balance\n",
    "print(id(b1.min_balance ))\n",
    "print(id(b2.min_balance ))\n",
    "print(id(Bankaccount.min_balance))\n"
   ]
  },
  {
   "cell_type": "code",
   "execution_count": 12,
   "metadata": {},
   "outputs": [],
   "source": [
    "##use b1 to change\n",
    "b1.min_balance = 4100"
   ]
  },
  {
   "cell_type": "code",
   "execution_count": 13,
   "metadata": {},
   "outputs": [
    {
     "data": {
      "text/plain": [
       "4000"
      ]
     },
     "execution_count": 13,
     "metadata": {},
     "output_type": "execute_result"
    }
   ],
   "source": [
    "b2.min_balance"
   ]
  },
  {
   "cell_type": "code",
   "execution_count": 14,
   "metadata": {},
   "outputs": [
    {
     "data": {
      "text/plain": [
       "4000"
      ]
     },
     "execution_count": 14,
     "metadata": {},
     "output_type": "execute_result"
    }
   ],
   "source": [
    "Bankaccount.min_balance"
   ]
  },
  {
   "cell_type": "code",
   "execution_count": 16,
   "metadata": {},
   "outputs": [
    {
     "data": {
      "text/plain": [
       "4100"
      ]
     },
     "execution_count": 16,
     "metadata": {},
     "output_type": "execute_result"
    }
   ],
   "source": [
    "b1.min_balance"
   ]
  },
  {
   "cell_type": "code",
   "execution_count": 17,
   "metadata": {},
   "outputs": [
    {
     "name": "stdout",
     "output_type": "stream",
     "text": [
      "2215479278640\n",
      "2215479277936\n",
      "2215479277936\n"
     ]
    }
   ],
   "source": [
    "print(id(b1.min_balance ))\n",
    "print(id(b2.min_balance ))\n",
    "print(id(Bankaccount.min_balance))"
   ]
  },
  {
   "cell_type": "markdown",
   "metadata": {},
   "source": [
    "## class methods"
   ]
  },
  {
   "cell_type": "code",
   "execution_count": 18,
   "metadata": {},
   "outputs": [
    {
     "name": "stdout",
     "output_type": "stream",
     "text": [
      "There are 0 homo sapiens\n",
      "There are 2 homo sapiens\n"
     ]
    }
   ],
   "source": [
    "class Person:\n",
    "    species = 'homo sapiens'\n",
    "    count = 0\n",
    "    \n",
    "    def __init__(self,name,age):\n",
    "        self.name = name\n",
    "        self.age = age\n",
    "        Person.count += 1\n",
    "    \n",
    "    def display(self):\n",
    "        print(f'{self.name} is {self.age} years old')\n",
    "        \n",
    "    @classmethod\n",
    "    def show_count(cls):\n",
    "        print(f'There are {cls.count} {cls.species}')\n",
    " \n",
    "Person.show_count()\n",
    "p1 = Person('john',20)\n",
    "p2 = Person('jack',34)\n",
    "Person.show_count()"
   ]
  },
  {
   "cell_type": "code",
   "execution_count": 22,
   "metadata": {},
   "outputs": [
    {
     "name": "stdout",
     "output_type": "stream",
     "text": [
      "joe is 44 years old\n"
     ]
    }
   ],
   "source": [
    "class Person:\n",
    "    species = 'homo sapiens'\n",
    "    count = 0\n",
    "    \n",
    "    def __init__(self,name,age):\n",
    "        self.name = name\n",
    "        self.age = age\n",
    "        Person.count += 1\n",
    "    \n",
    "    def display(self):\n",
    "        print(f'{self.name} is {self.age} years old')\n",
    "        \n",
    "    @classmethod\n",
    "    def from_str(cls,s):\n",
    "        name,age = s.split(',')\n",
    "        return cls(name,int(age))\n",
    "        \n",
    "    #for dictionary\n",
    "    @classmethod\n",
    "    def from_dict(cls,dic):\n",
    "        return cls(dic['name'],dic['age'])\n",
    "\n",
    "s = 'jim,23'\n",
    "d = {'name':'joe','age': 44}\n",
    "#Person.show_count()\n",
    "p1 = Person('john',20)\n",
    "p2 = Person('jack',34)\n",
    "#Person.show_count()\n",
    "p3 = Person.from_str(s)\n",
    "#p3.display()\n",
    "p4 = Person.from_dict(d)\n",
    "p4.display()"
   ]
  },
  {
   "cell_type": "code",
   "execution_count": 24,
   "metadata": {},
   "outputs": [
    {
     "name": "stdout",
     "output_type": "stream",
     "text": [
      "ravi is 500 years old\n"
     ]
    }
   ],
   "source": [
    "class Employee:\n",
    "    def __init__(self,name,salary):\n",
    "        self.name = name\n",
    "        self.salary = salary\n",
    "        \n",
    "    def show(self):\n",
    "        print(f'Iam {self.name} and my salary is {self.salary}')\n",
    "        \n",
    "class Person:\n",
    "    species = 'homo sapiens'\n",
    "    count = 0\n",
    "    \n",
    "    def __init__(self,name,age):\n",
    "        self.name = name\n",
    "        self.age = age\n",
    "        Person.count += 1\n",
    "    \n",
    "    def display(self):\n",
    "        print(f'{self.name} is {self.age} years old')\n",
    "        \n",
    "    @classmethod\n",
    "    def from_str(cls,s):\n",
    "        name,age = s.split(',')\n",
    "        return cls(name,int(age))\n",
    "        \n",
    "    #for dictionary\n",
    "    @classmethod\n",
    "    def from_dict(cls,dic):\n",
    "        return cls(dic['name'],dic['age'])\n",
    "    \n",
    "    @classmethod\n",
    "    def from_employee(cls,emp):\n",
    "        name = emp.name\n",
    "        salary = emp.salary\n",
    "        return cls(name,int(salary))\n",
    "    \n",
    "e = Employee('ravi',500)\n",
    "p = Person.from_employee(e)\n",
    "p.display()"
   ]
  },
  {
   "attachments": {
    "method.png": {
     "image/png": "[encoded data removed]"
    }
   },
   "cell_type": "markdown",
   "metadata": {},
   "source": [
    "![method.png](attachment:method.png)"
   ]
  },
  {
   "cell_type": "markdown",
   "metadata": {},
   "source": [
    "### Practice Exercise - 3\n",
    "\n",
    "\n",
    "1. This is a function to find the highest common factor of two numbers   \n",
    "\n",
    "```python\n",
    "\n",
    " def hcf(x,y):\n",
    "        x=abs(x)\n",
    "        y=abs(y)\n",
    "        smaller = y if x>y else x\n",
    "        s = smaller\n",
    "        while s>0:\n",
    "            if x%s==0 and y%s==0:\n",
    "                break\n",
    "            s-=1\n",
    "        return s\n",
    "Make it a static method in the Fraction class that you had written in earlier exercise.\n",
    "\n",
    "```\n",
    "\n",
    "2. In your Fraction class, write a private instance method _reduce that reduces a fraction to its lowest terms. To reduce a Fraction to its lowest terms you have to divide the numerator and denominator by the highest common factor. Call this method in __init__and also call it on the resultant fraction in methods multiply and add.\n",
    "\n",
    "\n",
    "\n",
    "3. In the following class SalesPerson, add two class variables named total_revenue and names. The variable names should be a list that contains names of all salespersons and total_revenue should contain the total sales amount of all the salespersons. \n",
    "\n",
    "```python\n",
    "\n",
    "class SalesPerson:   \n",
    "    def __init__(self,name,age):\n",
    "        self.name = name\n",
    "        self.age = age\n",
    "        self.sales_amount = 0\n",
    " \n",
    "    def make_sale(self,money):\n",
    "        self.sales_amount += money\n",
    " \n",
    "    def show(self):\n",
    "        print(self.name, self.age, self.sales_amount)\n",
    "        \n",
    " \n",
    "s1 = SalesPerson('Bob', 25)\n",
    "s2 = SalesPerson('Ted', 22)\n",
    "s3 = SalesPerson('Jack', 27)\n",
    " \n",
    "s1.make_sale(1000)\n",
    "s1.make_sale(1200)\n",
    "s2.make_sale(5000)\n",
    "s3.make_sale(3000)\n",
    "s3.make_sale(8000)\n",
    " \n",
    "s1.show()\n",
    "s2.show()\n",
    "s3.show()\n",
    "\n",
    "```\n",
    "\n",
    "\n",
    "4. Add a class variable named domains to the following Employee class. Make this class variable a set and it should store all domain names used by employees.\n",
    "\n",
    "```python\n",
    "\n",
    "class Employee:    \n",
    "    def __init__(self,name,email):\n",
    "        self.name = name\n",
    "        self.email = email\n",
    "   \n",
    "   def display(self):\n",
    "        print(self.name, self.email)\n",
    "            \n",
    "e1 = Employee('John','john@gmail.com')\n",
    "e2 = Employee('Jack','jack@yahoo.com')\n",
    "e3 = Employee('Jill','jill@outlook.com')\n",
    "e4 = Employee('Ted','ted@yahoo.com')\n",
    "e5 = Employee('Tim','tim@gmail.com')\n",
    "e6 = Employee('Mike','mike@yahoo.com')\n",
    "\n",
    "```\n",
    "\n",
    "\n",
    "5. In the following Employee class, add a class variable named allowed_domains.\n",
    "\n",
    "allowed_domains = {'yahoo.com', 'gmail.com', 'outlook.com'}\n",
    "Whenever an email is assigned, if the domain named is not in allowed_domains, raise a RuntimeError.\n",
    "\n",
    "```python\n",
    "\n",
    "class Employee:\n",
    " \n",
    "    def __init__(self,name,email):\n",
    "        self.name = name\n",
    "        self.email = email\n",
    " \n",
    "    def display(self):\n",
    "        print(self.name, self.email)\n",
    " \n",
    "e1 = Employee('John','john@gmail.com')\n",
    "e2 = Employee('Jack','jack@yahoo.com')\n",
    "e3 = Employee('Jill','jill@outlook.com')\n",
    "e4 = Employee('Ted','ted@yahoo.com')\n",
    "e5 = Employee('Tim','tim@xmail.com')\n",
    "\n",
    "```\n",
    "       \n",
    "\n",
    "6. The following program shows implementation of Stack Abstract data type using list. In a stack, elements are pushed and popped from one end of the stack which is called the top of the stack.\n",
    "\n",
    "This implementation has no maximum limit on the size of the stack. You have to introduce a maximum limit by adding a class variable named MAX_SIZE. In the push method, before inserting a new element, check the size of the stack and raise a RuntimeError if the stack is full. \n",
    "\n",
    "```python\n",
    "\n",
    "class Stack:        \n",
    "    def __init__(self):\n",
    "        self.items = []\n",
    " \n",
    "    def is_empty(self):\n",
    "        return self.items == []\n",
    " \n",
    "    def size(self):\n",
    "        return len(self.items)\n",
    " \n",
    "    def push(self, item):\n",
    "        self.items.append(item)\n",
    " \n",
    "    def pop(self):\n",
    "        if self.is_empty():\n",
    "            raise RuntimeError(\"Stack is empty\")\n",
    "        return self.items.pop()\n",
    "    \n",
    "    def display(self):\n",
    "        print(self.items)\n",
    " \n",
    "if __name__ == \"__main__\":\n",
    "    st = Stack()\n",
    " \n",
    "    while True:\n",
    "        print(\"1.Push\") \n",
    "        print(\"2.Pop\") \n",
    "        print(\"3.Peek\") \n",
    "        print(\"4.Size\")\n",
    "        print(\"5.Display\") \n",
    "        print(\"6.Quit\")\n",
    "         \n",
    "        choice = int(input(\"Enter your choice : \"))\n",
    " \n",
    "        if choice == 1:\n",
    "            x=int(input(\"Enter the element to be pushed : \"))\n",
    "            st.push(x) \n",
    "        elif choice == 2:\n",
    "            x=st.pop() \n",
    "            print(\"Popped element is : \" , x) \n",
    "        elif choice == 3:\n",
    "            print(\"Element at the top is : \" , st.peek()) \n",
    "        elif choice == 4:\n",
    "            print(\"Size of stack \" , st.size()) \n",
    "        elif choice == 5:\n",
    "            st.display()         \n",
    "        elif choice == 6:\n",
    "          break;\n",
    "        else:\n",
    "          print(\"Wrong choice\") \n",
    "        print() \n",
    "\n",
    "\n",
    "```\n",
    "\n",
    "7. Class variables with immutable values can be used as defaults for instance variables. In the following BankAccount class, add an instance variable named bank in the __init__method. Add a class variable bank_name that will be used as default argument in the __init__  method for bank parameter.\n",
    "\n",
    "\n",
    "```python\n",
    "\n",
    "class BankAccount:\n",
    " \n",
    "    def __init__(self, name, balance=0):\n",
    "        self.name = name\n",
    "        self.balance = balance\n",
    "        \n",
    "    def display(self):\n",
    "         print(self.name, self.balance)\n",
    " \n",
    "    def withdraw(self, amount):\n",
    "        self.balance -= amount\n",
    " \n",
    "    def deposit(self, amount):\n",
    "        self.balance += amount\n",
    "    \n",
    "a1 = BankAccount('Mike', 200)\n",
    "a2 = BankAccount('Tom')\n",
    " \n",
    "a1.display()\n",
    "a2.display()\n",
    "\n",
    "```\n"
   ]
  },
  {
   "cell_type": "markdown",
   "metadata": {},
   "source": [
    "#### solutions\n",
    "\n",
    "1."
   ]
  },
  {
   "cell_type": "code",
   "execution_count": 19,
   "metadata": {},
   "outputs": [
    {
     "name": "stdout",
     "output_type": "stream",
     "text": [
      "1/6\n",
      "-1/6\n",
      "-1/36\n",
      "0/36\n",
      "31/6\n",
      "5/6\n"
     ]
    }
   ],
   "source": [
    "class Fraction:\n",
    "    \n",
    "    def __init__(self,nr,dr = 1):\n",
    "        self.nr = nr\n",
    "        self.dr = dr\n",
    "        if self.dr < 0:\n",
    "            self.nr *= -1\n",
    "            self.dr *= -1\n",
    "        self._reduce()\n",
    "      \n",
    "            \n",
    "    def show(self):\n",
    "        print(f'{self.nr}/{self.dr}')\n",
    "        \n",
    "    def multiply(self,other):\n",
    "        if isinstance(other,int):\n",
    "            other = Fraction(other)\n",
    "        f = Fraction(self.nr * other.nr , self.dr * other.dr)\n",
    "        f._reduce()\n",
    "        return f\n",
    "        \n",
    "    \n",
    "    def add(self,other):\n",
    "        if isinstance(other,int):\n",
    "            other = Fraction(other)\n",
    "        f = Fraction(self.nr * other.dr + other.nr * self.dr, self.dr * other.dr)\n",
    "        f._reduce()\n",
    "        return f\n",
    "    \n",
    "    @staticmethod\n",
    "    def hcf(x,y):\n",
    "        x=abs(x)\n",
    "        y=abs(y)\n",
    "        smaller = y if x>y else x\n",
    "        s = smaller\n",
    "        while s>0:\n",
    "            if x%s==0 and y%s==0:\n",
    "                break\n",
    "            s-=1\n",
    "        return s\n",
    "    \n",
    "    def _reduce(self):\n",
    "        h = Fraction.hcf(self.nr, self.dr)\n",
    "        if h == 0:\n",
    "            return\n",
    "        \n",
    "        self.nr //= h\n",
    "        self.dr //= h\n",
    "    \n",
    "f1 = Fraction(6,36)\n",
    "f1.show()\n",
    "f2 = Fraction(2,-12)\n",
    "f2.show()\n",
    "f3 = f1.multiply(f2)\n",
    "f3.show()\n",
    "f3 = f1.add(f2)\n",
    "f3.show()\n",
    "f3 = f1.add(5) \n",
    "f3.show()\n",
    "f3 = f1.multiply(5) \n",
    "f3.show()\n"
   ]
  },
  {
   "cell_type": "code",
   "execution_count": 20,
   "metadata": {},
   "outputs": [
    {
     "name": "stdout",
     "output_type": "stream",
     "text": [
      "Bob 25 2200\n",
      "Ted 22 5000\n",
      "Jack 27 11000\n",
      "18200\n",
      "['Bob', 'Ted', 'Jack']\n"
     ]
    }
   ],
   "source": [
    "##3\n",
    "class SalesPerson:   \n",
    "    names = []\n",
    "    total_revenue = 0\n",
    "    def __init__(self,name,age):\n",
    "        self.name = name\n",
    "        self.age = age\n",
    "        self.sales_amount = 0\n",
    "        SalesPerson.names.append(name)\n",
    "\n",
    "    def make_sale(self,money):\n",
    "        self.sales_amount += money\n",
    "        SalesPerson.total_revenue += money\n",
    "\n",
    "    def show(self):\n",
    "        print(self.name, self.age, self.sales_amount)\n",
    "        \n",
    "s1 = SalesPerson('Bob', 25)\n",
    "s2 = SalesPerson('Ted', 22)\n",
    "s3 = SalesPerson('Jack', 27)\n",
    "            \n",
    "s1.make_sale(1000)\n",
    "s1.make_sale(1200)\n",
    "s2.make_sale(5000)\n",
    "s3.make_sale(3000)\n",
    "s3.make_sale(8000)\n",
    " \n",
    "s1.show()\n",
    "s2.show()\n",
    "s3.show()\n",
    " \n",
    "print(SalesPerson.total_revenue)\n",
    "print(SalesPerson.names)\n",
    "        \n",
    "        "
   ]
  },
  {
   "cell_type": "code",
   "execution_count": 27,
   "metadata": {},
   "outputs": [
    {
     "data": {
      "text/plain": [
       "{'gmail.com', 'outlook.com', 'yahoo.com'}"
      ]
     },
     "execution_count": 27,
     "metadata": {},
     "output_type": "execute_result"
    }
   ],
   "source": [
    "##4\n",
    "class Employee:   \n",
    "    domains = set()\n",
    "    def __init__(self,name,email):\n",
    "        self.name = name\n",
    "        self.email = email\n",
    "        domain = email[email.index('@')+1:]\n",
    "        Employee.domains.add(domain)\n",
    "    def display(self):\n",
    "        print(self.name, self.email)\n",
    "\n",
    "e1 = Employee('John','john@gmail.com')\n",
    "e2 = Employee('Jack','jack@yahoo.com')\n",
    "e3 = Employee('Jill','jill@outlook.com')\n",
    "e4 = Employee('Ted','ted@yahoo.com')\n",
    "e5 = Employee('Tim','tim@gmail.com')\n",
    "e6 = Employee('Mike','mike@yahoo.com')"
   ]
  },
  {
   "cell_type": "code",
   "execution_count": 32,
   "metadata": {},
   "outputs": [
    {
     "ename": "RuntimeError",
     "evalue": "Domain xmail.com is not allowed",
     "output_type": "error",
     "traceback": [
      "\u001b[1;31m---------------------------------------------------------------------------\u001b[0m",
      "\u001b[1;31mRuntimeError\u001b[0m                              Traceback (most recent call last)",
      "\u001b[1;32m<ipython-input-32-11829d4d1f0f>\u001b[0m in \u001b[0;36m<module>\u001b[1;34m\u001b[0m\n\u001b[0;32m     17\u001b[0m \u001b[0me3\u001b[0m \u001b[1;33m=\u001b[0m \u001b[0mEmployee\u001b[0m\u001b[1;33m(\u001b[0m\u001b[1;34m'Jill'\u001b[0m\u001b[1;33m,\u001b[0m\u001b[1;34m'jill@outlook.com'\u001b[0m\u001b[1;33m)\u001b[0m\u001b[1;33m\u001b[0m\u001b[1;33m\u001b[0m\u001b[0m\n\u001b[0;32m     18\u001b[0m \u001b[0me4\u001b[0m \u001b[1;33m=\u001b[0m \u001b[0mEmployee\u001b[0m\u001b[1;33m(\u001b[0m\u001b[1;34m'Ted'\u001b[0m\u001b[1;33m,\u001b[0m\u001b[1;34m'ted@yahoo.com'\u001b[0m\u001b[1;33m)\u001b[0m\u001b[1;33m\u001b[0m\u001b[1;33m\u001b[0m\u001b[0m\n\u001b[1;32m---> 19\u001b[1;33m \u001b[0me5\u001b[0m \u001b[1;33m=\u001b[0m \u001b[0mEmployee\u001b[0m\u001b[1;33m(\u001b[0m\u001b[1;34m'Tim'\u001b[0m\u001b[1;33m,\u001b[0m\u001b[1;34m'tim@xmail.com'\u001b[0m\u001b[1;33m)\u001b[0m\u001b[1;33m\u001b[0m\u001b[1;33m\u001b[0m\u001b[0m\n\u001b[0m",
      "\u001b[1;32m<ipython-input-32-11829d4d1f0f>\u001b[0m in \u001b[0;36m__init__\u001b[1;34m(self, name, email)\u001b[0m\n\u001b[0;32m      8\u001b[0m         \u001b[0mEmployee\u001b[0m\u001b[1;33m.\u001b[0m\u001b[0mdomains\u001b[0m\u001b[1;33m.\u001b[0m\u001b[0madd\u001b[0m\u001b[1;33m(\u001b[0m\u001b[0mdomain\u001b[0m\u001b[1;33m)\u001b[0m\u001b[1;33m\u001b[0m\u001b[1;33m\u001b[0m\u001b[0m\n\u001b[0;32m      9\u001b[0m         \u001b[1;32mif\u001b[0m \u001b[0mdomain\u001b[0m \u001b[1;32mnot\u001b[0m \u001b[1;32min\u001b[0m \u001b[0mEmployee\u001b[0m\u001b[1;33m.\u001b[0m\u001b[0mallowed_domains\u001b[0m\u001b[1;33m:\u001b[0m\u001b[1;33m\u001b[0m\u001b[1;33m\u001b[0m\u001b[0m\n\u001b[1;32m---> 10\u001b[1;33m             \u001b[1;32mraise\u001b[0m \u001b[0mRuntimeError\u001b[0m\u001b[1;33m(\u001b[0m\u001b[1;34mf'Domain {domain} is not allowed'\u001b[0m\u001b[1;33m)\u001b[0m\u001b[1;33m\u001b[0m\u001b[1;33m\u001b[0m\u001b[0m\n\u001b[0m\u001b[0;32m     11\u001b[0m \u001b[1;33m\u001b[0m\u001b[0m\n\u001b[0;32m     12\u001b[0m     \u001b[1;32mdef\u001b[0m \u001b[0mdisplay\u001b[0m\u001b[1;33m(\u001b[0m\u001b[0mself\u001b[0m\u001b[1;33m)\u001b[0m\u001b[1;33m:\u001b[0m\u001b[1;33m\u001b[0m\u001b[1;33m\u001b[0m\u001b[0m\n",
      "\u001b[1;31mRuntimeError\u001b[0m: Domain xmail.com is not allowed"
     ]
    }
   ],
   "source": [
    "class Employee:\n",
    "    allowed_domains = {'yahoo.com', 'gmail.com', 'outlook.com'} \n",
    "    domains = set()\n",
    "    def __init__(self,name,email):\n",
    "        self.name = name\n",
    "        self.email = email\n",
    "        domain = email[email.index('@')+1:]\n",
    "        Employee.domains.add(domain)\n",
    "        if domain not in Employee.allowed_domains:\n",
    "            raise RuntimeError(f'Domain {domain} is not allowed')\n",
    "\n",
    "    def display(self):\n",
    "        print(self.name, self.email)\n",
    "\n",
    "e1 = Employee('John','john@gmail.com')\n",
    "e2 = Employee('Jack','jack@yahoo.com')\n",
    "e3 = Employee('Jill','jill@outlook.com')\n",
    "e4 = Employee('Ted','ted@yahoo.com')\n",
    "e5 = Employee('Tim','tim@xmail.com')"
   ]
  },
  {
   "cell_type": "code",
   "execution_count": 36,
   "metadata": {},
   "outputs": [],
   "source": [
    "class Stack:    \n",
    "    MAX_SIZE = 5\n",
    "    def __init__(self):\n",
    "        self.items = []\n",
    "\n",
    "    def is_empty(self):\n",
    "        return self.items == []\n",
    "\n",
    "    def size(self):\n",
    "        return len(self.items)\n",
    "\n",
    "    def push(self, item):\n",
    "        if self.size() == Stack.MAX_SIZE:\n",
    "            raise RuntimeError('stack is full')\n",
    "        self.items.append(item)\n",
    "\n",
    "    def pop(self):\n",
    "        if self.is_empty():\n",
    "            raise RuntimeError(\"Stack is empty\")\n",
    "        return self.items.pop()\n",
    "\n",
    "    def display(self):\n",
    "        print(self.items)"
   ]
  },
  {
   "cell_type": "code",
   "execution_count": 37,
   "metadata": {},
   "outputs": [],
   "source": [
    "s = Stack()"
   ]
  },
  {
   "cell_type": "code",
   "execution_count": 38,
   "metadata": {},
   "outputs": [],
   "source": [
    "s.push(1)\n",
    "s.push(1)\n",
    "s.push(1)\n",
    "s.push(1)\n",
    "s.push(1)"
   ]
  },
  {
   "cell_type": "code",
   "execution_count": 39,
   "metadata": {},
   "outputs": [
    {
     "ename": "RuntimeError",
     "evalue": "stack is full",
     "output_type": "error",
     "traceback": [
      "\u001b[1;31m---------------------------------------------------------------------------\u001b[0m",
      "\u001b[1;31mRuntimeError\u001b[0m                              Traceback (most recent call last)",
      "\u001b[1;32m<ipython-input-39-1bb4acfd7f21>\u001b[0m in \u001b[0;36m<module>\u001b[1;34m\u001b[0m\n\u001b[1;32m----> 1\u001b[1;33m \u001b[0ms\u001b[0m\u001b[1;33m.\u001b[0m\u001b[0mpush\u001b[0m\u001b[1;33m(\u001b[0m\u001b[1;36m1\u001b[0m\u001b[1;33m)\u001b[0m\u001b[1;33m\u001b[0m\u001b[1;33m\u001b[0m\u001b[0m\n\u001b[0m",
      "\u001b[1;32m<ipython-input-36-0faa441e0900>\u001b[0m in \u001b[0;36mpush\u001b[1;34m(self, item)\u001b[0m\n\u001b[0;32m     12\u001b[0m     \u001b[1;32mdef\u001b[0m \u001b[0mpush\u001b[0m\u001b[1;33m(\u001b[0m\u001b[0mself\u001b[0m\u001b[1;33m,\u001b[0m \u001b[0mitem\u001b[0m\u001b[1;33m)\u001b[0m\u001b[1;33m:\u001b[0m\u001b[1;33m\u001b[0m\u001b[1;33m\u001b[0m\u001b[0m\n\u001b[0;32m     13\u001b[0m         \u001b[1;32mif\u001b[0m \u001b[0mself\u001b[0m\u001b[1;33m.\u001b[0m\u001b[0msize\u001b[0m\u001b[1;33m(\u001b[0m\u001b[1;33m)\u001b[0m \u001b[1;33m==\u001b[0m \u001b[0mStack\u001b[0m\u001b[1;33m.\u001b[0m\u001b[0mMAX_SIZE\u001b[0m\u001b[1;33m:\u001b[0m\u001b[1;33m\u001b[0m\u001b[1;33m\u001b[0m\u001b[0m\n\u001b[1;32m---> 14\u001b[1;33m             \u001b[1;32mraise\u001b[0m \u001b[0mRuntimeError\u001b[0m\u001b[1;33m(\u001b[0m\u001b[1;34m'stack is full'\u001b[0m\u001b[1;33m)\u001b[0m\u001b[1;33m\u001b[0m\u001b[1;33m\u001b[0m\u001b[0m\n\u001b[0m\u001b[0;32m     15\u001b[0m         \u001b[0mself\u001b[0m\u001b[1;33m.\u001b[0m\u001b[0mitems\u001b[0m\u001b[1;33m.\u001b[0m\u001b[0mappend\u001b[0m\u001b[1;33m(\u001b[0m\u001b[0mitem\u001b[0m\u001b[1;33m)\u001b[0m\u001b[1;33m\u001b[0m\u001b[1;33m\u001b[0m\u001b[0m\n\u001b[0;32m     16\u001b[0m \u001b[1;33m\u001b[0m\u001b[0m\n",
      "\u001b[1;31mRuntimeError\u001b[0m: stack is full"
     ]
    }
   ],
   "source": [
    "s.push(1)"
   ]
  },
  {
   "cell_type": "code",
   "execution_count": 40,
   "metadata": {},
   "outputs": [
    {
     "name": "stdout",
     "output_type": "stream",
     "text": [
      "[1, 1, 1, 1, 1]\n"
     ]
    }
   ],
   "source": [
    "s.display()"
   ]
  },
  {
   "cell_type": "code",
   "execution_count": 41,
   "metadata": {},
   "outputs": [
    {
     "name": "stdout",
     "output_type": "stream",
     "text": [
      "Mike 200 PQR Bank Delhi\n",
      "Tom 0 ABC bank, XYZ Street, New Delhi\n"
     ]
    }
   ],
   "source": [
    "class BankAccount:\n",
    " \n",
    "    bank_name = 'ABC bank, XYZ Street, New Delhi'\n",
    " \n",
    "    def __init__(self, name, balance=0, bank=bank_name):\n",
    "        self.name = name\n",
    "        self.balance = balance\n",
    "        self.bank = bank\n",
    " \n",
    "    def display(self):\n",
    "         print(self.name, self.balance, self.bank)\n",
    " \n",
    "    def withdraw(self, amount):\n",
    "        self.balance -= amount\n",
    " \n",
    "    def deposit(self, amount):\n",
    "        self.balance += amount\n",
    "    \n",
    "a1 = BankAccount('Mike', 200, 'PQR Bank Delhi')\n",
    "a2 = BankAccount('Tom')\n",
    " \n",
    "a1.display()\n",
    "a2.display()"
   ]
  },
  {
   "cell_type": "markdown",
   "metadata": {},
   "source": [
    "Note that here we could use the class variable bank_name without preceding it with the class name.\n",
    "\n",
    "Any statements that are written inside the class methods, have to use the fully qualified class variable name, for example MyCLass.x.\n",
    "\n",
    "Any statement that is at the class level, i.e. outside the class methods should use simply the variable name, not the fully qualified name.\n",
    "\n",
    "For example -\n",
    "\n",
    "```python\n",
    "class MyClass():\n",
    "      x = 6\n",
    "      y = x + 10    \n",
    "```\n",
    "  So here you need to use it as x, not as MyClass.x"
   ]
  }
 ],
 "metadata": {
  "kernelspec": {
   "display_name": "Python 3",
   "language": "python",
   "name": "python3"
  },
  "language_info": {
   "codemirror_mode": {
    "name": "ipython",
    "version": 3
   },
   "file_extension": ".py",
   "mimetype": "text/x-python",
   "name": "python",
   "nbconvert_exporter": "python",
   "pygments_lexer": "ipython3",
   "version": "3.7.6"
  }
 },
 "nbformat": 4,
 "nbformat_minor": 4
}
